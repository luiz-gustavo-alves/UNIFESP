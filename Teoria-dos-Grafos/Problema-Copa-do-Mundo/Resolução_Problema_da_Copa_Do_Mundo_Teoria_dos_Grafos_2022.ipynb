{
  "nbformat": 4,
  "nbformat_minor": 0,
  "metadata": {
    "colab": {
      "provenance": [],
      "collapsed_sections": []
    },
    "kernelspec": {
      "name": "python3",
      "display_name": "Python 3"
    },
    "language_info": {
      "name": "python"
    }
  },
  "cells": [
    {
      "cell_type": "markdown",
      "source": [
        "# **PROBLEMA DA COPA DO MUNDO - TEORIA DOS GRAFOS 2022** #\n",
        "\n",
        "<blockquote> Objetivos:\n",
        "\n",
        "- Encontras as Seleções que disputaram, pelo menos uma, fase final de Copa do Mundo;\n",
        "- Definir o confronto entre as seleções. </blockquote>\n"
      ],
      "metadata": {
        "id": "ay7yNKH1Ogd8"
      }
    },
    {
      "cell_type": "markdown",
      "source": [
        "## **DEFININDO GRAFO COMPUTACIONALMENTE** ##\n",
        "\n",
        "<blockquote> Objetivos - Definição Grafo:\n",
        "\n",
        "- Vertices;\n",
        "- Arestas;\n",
        "- Pesos (opcional);\n",
        "- Vértices Adjacentes;\n",
        " </blockquote>\n",
        "\n",
        "\n",
        "<blockquote> Objetivos - Algoritmos:\n",
        "\n",
        "- Converter e mapear índice de uma String para Inteiro, e vice-versa;\n",
        "- Obter número de vértices e arestas;\n",
        "- Dado vértice, obter os vértices adjacentes do grafo;\n",
        "- Verificar a existência entre duas arestas do grafo;\n",
        "- Dado vértice, obter o grau de um vértice;\n",
        "- Dado grafo, obter o grau de todos os vértices;\n",
        "- Dado vértice, obter a quantidade total de confrontos do vértice;\n",
        "- Dado grafo, obter a quantidade total de confrontos de todos vértices.\n",
        " </blockquote>"
      ],
      "metadata": {
        "id": "ssLkWPspR_Ss"
      }
    },
    {
      "cell_type": "code",
      "source": [
        "class Grafo:\n",
        "  \n",
        "    def __init__(self, vertices, arestas):\n",
        "        self.vertices = vertices\n",
        "        self.arestas = arestas\n",
        "        self.index, self.v_list = self.converterStringInt()\n",
        "        self.adj = [None] * len(arestas)\n",
        "\n",
        "        for i in range(len(vertices)):\n",
        "          self.adj[i] = []\n",
        "\n",
        "        for u, v, w in arestas:\n",
        "          i = self.mapearStringInt(self.index, self.v_list, u)\n",
        "          j = self.mapearStringInt(self.index, self.v_list, v)\n",
        "          self.adj[i].append((u, v, w))\n",
        "          self.adj[j].append((v, u, w))\n",
        "\n",
        "    def converterStringInt(self):\n",
        "        v_list = []\n",
        "        index = []\n",
        "\n",
        "        for i in self.vertices:\n",
        "            v_list.append(i)\n",
        "            index.append(v_list.index(i))\n",
        "\n",
        "        return index, v_list\n",
        "\n",
        "    def mapearStringInt(self, index, v_list, vertice):\n",
        "        i = 0;\n",
        "        for u in v_list:\n",
        "            if (u == vertice):\n",
        "                return index[i]\n",
        "            i += 1\n",
        "\n",
        "    def obterNumeroDeVerticesGrafo(self):\n",
        "        return len(self.vertices)\n",
        "\n",
        "    def obterNumeroDeArestasGrafo(self):\n",
        "        return len(self.arestas)\n",
        "\n",
        "    def obterAdjacentesVerticeNoGrafo(self, vertice):\n",
        "        i = self.mapearStringInt(self.index, self.v_list, vertice)\n",
        "        return self.adj[i]\n",
        "\n",
        "    def obterAdjacentesNoGrafo(self):\n",
        "        return self.adj\n",
        "\n",
        "    def verificarArestaNoGrafo(self, vertice1, vertice2):\n",
        "        for u, v, w in self.arestas:\n",
        "            if (u == vertice1 and v == vertice2) or (u == vertice2 and v == vertice1):\n",
        "                return u, v, w\n",
        "\n",
        "        return False\n",
        "\n",
        "    def obterGrauDoVerticeNoGrafo(self, vertice):\n",
        "        grau = 0;\n",
        "\n",
        "        for u, v, w in self.arestas:\n",
        "            if (u == vertice):\n",
        "                grau += 1\n",
        "            elif (v == vertice):\n",
        "                grau += 1\n",
        "\n",
        "        return grau\n",
        "\n",
        "    def obterGrauDeCadaVerticeNoGrafo(self):\n",
        "        Graus = {k: 0 for k in self.vertices}\n",
        "\n",
        "        for u in self.vertices:\n",
        "            Graus[u] = self.obterGrauDoVerticeNoGrafo(u)\n",
        "\n",
        "        return Graus\n",
        "\n",
        "    def obterTotalConfrontosVerticeNoGrafo(self, vertice):\n",
        "        Adj = self.obterAdjacentesVerticeNoGrafo(vertice)\n",
        "\n",
        "        peso = 0\n",
        "        for u, v, w in Adj:\n",
        "          peso += w\n",
        "\n",
        "        return peso\n",
        "\n",
        "    def obterTotalConfrontosNoGrafo(self):\n",
        "        Pesos = {k: 0 for k in self.vertices}\n",
        "\n",
        "        for u in self.vertices:\n",
        "            Pesos[u] = self.obterTotalConfrontosVerticeNoGrafo(u)\n",
        "\n",
        "        return Pesos\n",
        "             "
      ],
      "metadata": {
        "id": "e_9bDXWlTNoF"
      },
      "execution_count": null,
      "outputs": []
    },
    {
      "cell_type": "markdown",
      "source": [
        "##**DEFININDO VÉRTICES E ARESTAS DO GRAFO**##"
      ],
      "metadata": {
        "id": "oiRJKYH8T7AN"
      }
    },
    {
      "cell_type": "code",
      "source": [
        "v_copa = ['Arábia Saudita', 'Áustria', 'Alemanha', 'Alemanha Ocidental', 'Alemanha Oriental', 'Argentina',\n",
        "              'Argélia', 'Austrália', 'Brasil', 'Bulgária', 'Bélgica', 'Camarões', 'Chile', 'Colômbia',\n",
        "              'Coreia do Norte', 'Coreia do Sul', 'Costa Rica', 'Croácia','Cuba','Dinamarca',\n",
        "              'Egito', 'Equador','Eslováquia','Espanha','Estados Unidos','França','Gana',\n",
        "              'Grécia','Holanda','Hungria','Indonésia', 'Inglaterra','Irlanda','Irlanda do Norte',\n",
        "              'Itália','Iugoslávia','Japão','Marrocos', 'México','Nigéria','Noruega','Paraguai',\n",
        "              'País de Gales','Peru','Polónia','Portugal','Romênia','Rússia','Senegal','Suécia',\n",
        "              'Suíça','Tchecoslováquia','Turquia','Ucrânia','União Soviética','Uruguai']\n",
        "\n",
        "e_copa = { ('Argentina','Holanda', 4), ('Alemanha Ocidental','Iugoslávia', 4),\n",
        "                  ('Alemanha Ocidental','Inglaterra', 4), ('Brasil','Argentina', 4), ('Brasil','Chile', 4),\n",
        "                  ('Brasil','França', 4), ('Brasil',  'Itália', 4), ('Brasil','Holanda', 4), ('Argentina' , 'Inglaterra', 3),\n",
        "                  ('Alemanha','Argentina', 3), ('Alemanha Ocidental', 'Holanda', 3), ('Alemanha Ocidental' ,'Argentina', 3),\n",
        "                  ('Alemanha Ocidental',  'Itália', 3), ('Brasil',  'Polónia', 3), ('Brasil' , 'Suécia', 3), ('Itália', 'França', 3),\n",
        "                  ('Argentina' , 'Uruguai', 2), ('Argentina' ,'México', 2), ('Alemanha' ,  'Bélgica', 2), ('Alemanha' , 'Suécia', 2),\n",
        "                  ('Alemanha Ocidental',  'Áustria', 2), ('Alemanha Ocidental' ,'França', 2), ('Brasil'  ,'Inglaterra', 2),\n",
        "                  ('Brasil',  'Peru', 2), ('Brasil',   'Alemanha', 2), ('Brasil',   'Bélgica', 2), ('Brasil' , 'Tchecoslováquia', 2),\n",
        "                  ('Brasil', 'Uruguai', 2), ('Croácia'  ,'França', 2), ('França'  ,'Áustria', 2), ('Itália',  'Espanha', 2), ('Itália',  'Áustria', 2),\n",
        "                  ('Itália',   'Alemanha Ocidental', 2),('Itália',   'Argentina', 2),('Inglaterra',  'Portugal', 2), ('México',    'Bulgária', 2),\n",
        "                  ('Alemanha Ocidental',  'Hungria', 1), ('Alemanha Ocidental',  'Espanha', 1),('Alemanha Ocidental' , 'México', 1),\n",
        "                  ('Alemanha Ocidental',  'Suécia', 1), ('Alemanha Ocidental',  'União Soviética', 1), ('Alemanha Ocidental',  'Uruguai', 1),\n",
        "                  ('Alemanha Oriental' , 'Holanda', 1), ('Alemanha' ,  'Argélia', 1), ('Alemanha',  'Coreia do Sul', 1), ('Alemanha',   'Croácia', 1),\n",
        "                  ('Alemanha',  'Espanha', 1), ('Alemanha',  'Estados Unidos', 1), ('Alemanha',  'México', 1), ('Alemanha' , 'Paraguai', 1),\n",
        "                  ('Alemanha',  'Suécia', 1), ('Arábia Saudita',  'Suécia', 1), ('Argentina',  'Estados Unidos', 1), ('Argentina',  'Alemanha Oriental', 1),\n",
        "                  ('Argentina',   'Bélgica', 1), ('Argentina', 'Iugoslávia', 1), ('Argentina',  'Peru', 1), ('Argentina',  'Polónia', 1),\n",
        "                  ('Argentina',  'Suíça', 1), ('Argentina',  'Bélgica', 1), ('Áustria',  'Hungria', 1), ('Áustria',  'Suíça', 1),\n",
        "                  ('Áustria' , 'Irlanda do Norte', 1), ('Bélgica' , 'Estados Unidos', 1),('Bélgica',  'Japão', 1), ('Bélgica',  'União Soviética', 1),\n",
        "                  ('Brasil',   'Alemanha Oriental', 1), ('Brasil' ,  'Colômbia', 1), ('Brasil',  'Dinamarca', 1),('Brasil' , 'Estados Unidos', 1),\n",
        "                  ('Brasil',  'Gana', 1),('Brasil', 'México', 1), ('Brasil',  'País de Gales', 1),('Brasil',  'Turquia', 1),('Bulgária',  'Itália', 1), ('Bulgária',  'Alemanha', 1),\n",
        "                  ('Camarões',   'Colômbia', 1),('Camarões', 'Inglaterra', 1),('Colômbia',  'Inglaterra', 1),('Colômbia' , 'Uruguai', 1),\n",
        "                  ('Coreia do Sul' , 'Itália', 1),('Costa Rica',  'Grécia', 1),('Croácia',  'Dinamarca', 1),('Croácia',  'Inglaterra', 1),\n",
        "                  ('Cuba',  'Romênia', 1),('Dinamarca',  'Espanha', 1),('Dinamarca',  'Inglaterra', 1),('Espanha'  ,'Brasil', 1),\n",
        "                  ('Espanha',   'Bélgica', 1),('Espanha'  , 'Coreia do Sul', 1),('Espanha',  'França', 1),('Espanha' ,'Inglaterra', 1),\n",
        "                  ('Espanha',  'Irlanda', 1),('Espanha',  'Iugoslávia', 1),('Espanha',  'Portugal', 1),('Espanha' , 'Rússia', 1),\n",
        "                  ('Espanha',  'Suíça', 1),('Espanha',  'Uruguai', 1),('Estados Unidos',  'Gana', 1),('França',     'Bélgica', 1),\n",
        "                  ('França',     'Alemanha Ocidental', 1),('França',     'Argentina', 1),('França',     'Bélgica', 1),('França',    'Irlanda do Norte', 1),\n",
        "                  ('França',    'Nigéria', 1),('França',    'Paraguai', 1),('Holanda',     'Alemanha Ocidental', 1), ('Holanda',   'Áustria', 1),\n",
        "                  ('Holanda',     'Costa Rica', 1),('Holanda',    'Eslováquia', 1),('Holanda',    'Espanha', 1),('Holanda',    'Irlanda', 1),\n",
        "                  ('Holanda',    'Itália', 1),('Holanda',    'Iugoslávia', 1),('Holanda',    'México', 1),('Hungria',     'Brasil', 1),\n",
        "                  ('Hungria',    'Egito', 1),('Hungria',    'Suécia', 1),('Hungria',    'Suíça', 1),('Hungria',    'Indonésia', 1),\n",
        "                  ('Hungria',    'Uruguai', 1),('Hungria',    'Tchecoslováquia', 1),('Inglaterra',     'Bélgica', 1),('Inglaterra',    'Equador', 1),\n",
        "                  ('Inglaterra',    'Paraguai', 1),('Irlanda',  'Itália', 1),('Irlanda',  'Romênia', 1),('Itália',  'Áustria', 1),\n",
        "                  ('Itália',  'Estados Unidos', 1),('Itália',    'Noruega', 1),('Itália',    'Hungria', 1),('Itália',    'Tchecoslováquia', 1),\n",
        "                  ('Itália',     'Austrália', 1),('Itália',    'Áustria', 1),('Itália',    'México', 1),('Itália',    'Noruega', 1),('Itália',    'Ucrânia', 1),\n",
        "                  ('Itália',    'Uruguai', 1),('Iugoslávia',    'Tchecoslováquia', 1),('Japão',    'Turquia', 1),('Marrocos',     'Alemanha Ocidental', 1),\n",
        "                  ('México',    'Estados Unidos', 1),('Nigéria',    'Dinamarca', 1),('Nigéria',    'Itália', 1),('Paraguai',   'Espanha', 1),\n",
        "                  ('Paraguai',    'Japão', 1),('Polónia',     'Alemanha Ocidental', 1),('Polónia',     'Bélgica', 1),('Polónia',     'Itália', 1),\n",
        "                  ('Polónia',    'Iugoslávia', 1),('Polónia',    'Peru', 1),('Polónia',    'União Soviética', 1),('Portugal',     'Coreia do Norte', 1),\n",
        "                  ('Portugal',    'França', 1),('Portugal',    'Holanda', 1),('Romênia',     'Argentina', 1),('Romênia',     'Croácia', 1),\n",
        "                  ('Romênia',    'Suécia', 1),('Rússia',     'Croácia', 1),('Senegal',  'Turquia', 1),('Suécia',   'Argentina', 1),\n",
        "                  ('Suécia',  'Áustria', 1),('Suécia',   'Cuba', 1),('Suécia',   'Alemanha Ocidental', 1),('Suécia',  'Inglaterra', 1),\n",
        "                  ('Suécia',  'Iugoslávia', 1),('Suécia',  'Polónia', 1),('Suécia',  'Senegal', 1),('Suécia',  'Suíça', 1),\n",
        "                  ('Suécia',  'União Soviética', 1),('Suíça',   'Alemanha', 1),('Suíça',  'Holanda', 1),('Suíça',  'Ucrânia', 1),\n",
        "                  ('Tchecoslováquia', 'Holanda', 1),('Tchecoslováquia',  'Romênia', 1),('Tchecoslováquia',   'Alemanha Ocidental', 1),\n",
        "                  ('Tchecoslováquia',   'Costa Rica', 1),('Tchecoslováquia',   'Alemanha', 1),('Tchecoslováquia',  'Suíça', 1),\n",
        "                  ('União Soviética',   'Bélgica', 1),('União Soviética',   'Chile', 1),('União Soviética',  'Hungria', 1),\n",
        "                  ('União Soviética',  'Uruguai', 1),('Uruguai',  'Inglaterra', 1),('Uruguai',  'Iugoslávia', 1),\n",
        "                  ('Uruguai',   'Coreia do Sul', 1),('Uruguai',  'França', 1),('Uruguai',  'Gana', 1),('Uruguai',  'Holanda', 1),\n",
        "                  ('Uruguai',  'Portugal', 1) }"
      ],
      "metadata": {
        "id": "-6WKw4eZUAl2"
      },
      "execution_count": null,
      "outputs": []
    },
    {
      "cell_type": "markdown",
      "source": [
        "## **EXECUTANDO ALGORITMOS**"
      ],
      "metadata": {
        "id": "FcZI-B44PpdP"
      }
    },
    {
      "cell_type": "code",
      "source": [
        "GCopa = Grafo(v_copa, e_copa)\n",
        "\n",
        "print(\"----------- GRAFO COPA -----------\")\n",
        "print(\"Número de Vertices: \", GCopa.obterNumeroDeVerticesGrafo())\n",
        "print(\"Número de Arestas: \", GCopa.obterNumeroDeArestasGrafo())\n",
        "print(\"Vertices Adjacentes a Brasil: \", GCopa.obterAdjacentesVerticeNoGrafo('Brasil'))\n",
        "print(\"Verificar existência de Aresta entre Brasil e Argentina: \", GCopa.verificarArestaNoGrafo('Brasil', 'Argentina'))\n",
        "print(\"Grau do Vertice - Brasil: \", GCopa.obterGrauDoVerticeNoGrafo('Brasil'))\n",
        "print(\"Graus do Grafo Copa do Mundo: \", GCopa.obterGrauDeCadaVerticeNoGrafo())\n",
        "print(\"Total Confrontos Brasil Copa: \", GCopa.obterTotalConfrontosVerticeNoGrafo('Brasil'))\n",
        "print(\"Total Confrontos do Grafo Copa do Mundo: \", GCopa.obterTotalConfrontosNoGrafo())"
      ],
      "metadata": {
        "colab": {
          "base_uri": "https://localhost:8080/"
        },
        "id": "KuNkvoMbY633",
        "outputId": "7bb17048-9b29-4b45-d379-144f046a140b"
      },
      "execution_count": null,
      "outputs": [
        {
          "output_type": "stream",
          "name": "stdout",
          "text": [
            "----------- GRAFO COPA -----------\n",
            "Número de Vertices:  56\n",
            "Número de Arestas:  186\n",
            "Vertices Adjacentes a Brasil:  [('Brasil', 'Tchecoslováquia', 2), ('Brasil', 'Colômbia', 1), ('Brasil', 'Bélgica', 2), ('Brasil', 'Alemanha Oriental', 1), ('Brasil', 'Estados Unidos', 1), ('Brasil', 'Turquia', 1), ('Brasil', 'Alemanha', 2), ('Brasil', 'Holanda', 4), ('Brasil', 'País de Gales', 1), ('Brasil', 'Inglaterra', 2), ('Brasil', 'Dinamarca', 1), ('Brasil', 'Peru', 2), ('Brasil', 'Espanha', 1), ('Brasil', 'Uruguai', 2), ('Brasil', 'Hungria', 1), ('Brasil', 'França', 4), ('Brasil', 'Suécia', 3), ('Brasil', 'Polónia', 3), ('Brasil', 'Gana', 1), ('Brasil', 'Argentina', 4), ('Brasil', 'Chile', 4), ('Brasil', 'Itália', 4), ('Brasil', 'México', 1)]\n",
            "Verificar existência de Aresta entre Brasil e Argentina:  ('Brasil', 'Argentina', 4)\n",
            "Grau do Vertice - Brasil:  23\n",
            "Graus do Grafo Copa do Mundo:  {'Arábia Saudita': 1, 'Áustria': 9, 'Alemanha': 15, 'Alemanha Ocidental': 20, 'Alemanha Oriental': 3, 'Argentina': 18, 'Argélia': 1, 'Austrália': 1, 'Brasil': 23, 'Bulgária': 3, 'Bélgica': 11, 'Camarões': 2, 'Chile': 2, 'Colômbia': 4, 'Coreia do Norte': 1, 'Coreia do Sul': 4, 'Costa Rica': 3, 'Croácia': 6, 'Cuba': 2, 'Dinamarca': 5, 'Egito': 1, 'Equador': 1, 'Eslováquia': 1, 'Espanha': 17, 'Estados Unidos': 7, 'França': 14, 'Gana': 3, 'Grécia': 1, 'Holanda': 17, 'Hungria': 11, 'Indonésia': 1, 'Inglaterra': 14, 'Irlanda': 4, 'Irlanda do Norte': 2, 'Itália': 22, 'Iugoslávia': 8, 'Japão': 3, 'Marrocos': 1, 'México': 8, 'Nigéria': 3, 'Noruega': 1, 'Paraguai': 5, 'País de Gales': 1, 'Peru': 3, 'Polónia': 9, 'Portugal': 6, 'Romênia': 6, 'Rússia': 2, 'Senegal': 2, 'Suécia': 17, 'Suíça': 9, 'Tchecoslováquia': 10, 'Turquia': 3, 'Ucrânia': 2, 'União Soviética': 8, 'Uruguai': 15}\n",
            "Total Confrontos Brasil Copa:  48\n",
            "Total Confrontos do Grafo Copa do Mundo:  {'Arábia Saudita': 1, 'Áustria': 12, 'Alemanha': 20, 'Alemanha Ocidental': 35, 'Alemanha Oriental': 3, 'Argentina': 33, 'Argélia': 1, 'Austrália': 1, 'Brasil': 48, 'Bulgária': 4, 'Bélgica': 13, 'Camarões': 2, 'Chile': 5, 'Colômbia': 4, 'Coreia do Norte': 1, 'Coreia do Sul': 4, 'Costa Rica': 3, 'Croácia': 7, 'Cuba': 2, 'Dinamarca': 5, 'Egito': 1, 'Equador': 1, 'Eslováquia': 1, 'Espanha': 18, 'Estados Unidos': 7, 'França': 22, 'Gana': 3, 'Grécia': 1, 'Holanda': 25, 'Hungria': 11, 'Indonésia': 1, 'Inglaterra': 21, 'Irlanda': 4, 'Irlanda do Norte': 2, 'Itália': 33, 'Iugoslávia': 11, 'Japão': 3, 'Marrocos': 1, 'México': 10, 'Nigéria': 3, 'Noruega': 1, 'Paraguai': 5, 'País de Gales': 1, 'Peru': 4, 'Polónia': 11, 'Portugal': 7, 'Romênia': 6, 'Rússia': 2, 'Senegal': 2, 'Suécia': 20, 'Suíça': 9, 'Tchecoslováquia': 11, 'Turquia': 3, 'Ucrânia': 2, 'União Soviética': 8, 'Uruguai': 17}\n"
          ]
        }
      ]
    },
    {
      "cell_type": "code",
      "source": [
        "for vertice in v_copa:\n",
        "  print(vertice, \"- Total Confrontos: \", GCopa.obterTotalConfrontosVerticeNoGrafo(vertice), \" -> \", GCopa.obterAdjacentesVerticeNoGrafo(vertice))"
      ],
      "metadata": {
        "colab": {
          "base_uri": "https://localhost:8080/"
        },
        "id": "GSzrYPju_mZs",
        "outputId": "cda19f8a-9251-4a0b-f48c-388624b8e0ab"
      },
      "execution_count": null,
      "outputs": [
        {
          "output_type": "stream",
          "name": "stdout",
          "text": [
            "Arábia Saudita - Total Confrontos:  1  ->  [('Arábia Saudita', 'Suécia', 1)]\n",
            "Áustria - Total Confrontos:  12  ->  [('Áustria', 'Holanda', 1), ('Áustria', 'Suíça', 1), ('Áustria', 'Itália', 1), ('Áustria', 'Hungria', 1), ('Áustria', 'França', 2), ('Áustria', 'Irlanda do Norte', 1), ('Áustria', 'Suécia', 1), ('Áustria', 'Alemanha Ocidental', 2), ('Áustria', 'Itália', 2)]\n",
            "Alemanha - Total Confrontos:  20  ->  [('Alemanha', 'Paraguai', 1), ('Alemanha', 'Coreia do Sul', 1), ('Alemanha', 'Argélia', 1), ('Alemanha', 'Estados Unidos', 1), ('Alemanha', 'México', 1), ('Alemanha', 'Brasil', 2), ('Alemanha', 'Espanha', 1), ('Alemanha', 'Tchecoslováquia', 1), ('Alemanha', 'Croácia', 1), ('Alemanha', 'Suécia', 1), ('Alemanha', 'Bulgária', 1), ('Alemanha', 'Bélgica', 2), ('Alemanha', 'Suíça', 1), ('Alemanha', 'Argentina', 3), ('Alemanha', 'Suécia', 2)]\n",
            "Alemanha Ocidental - Total Confrontos:  35  ->  [('Alemanha Ocidental', 'Iugoslávia', 4), ('Alemanha Ocidental', 'Polónia', 1), ('Alemanha Ocidental', 'Tchecoslováquia', 1), ('Alemanha Ocidental', 'Suécia', 1), ('Alemanha Ocidental', 'Inglaterra', 4), ('Alemanha Ocidental', 'França', 2), ('Alemanha Ocidental', 'Marrocos', 1), ('Alemanha Ocidental', 'Itália', 2), ('Alemanha Ocidental', 'União Soviética', 1), ('Alemanha Ocidental', 'Argentina', 3), ('Alemanha Ocidental', 'Uruguai', 1), ('Alemanha Ocidental', 'Itália', 3), ('Alemanha Ocidental', 'Áustria', 2), ('Alemanha Ocidental', 'Holanda', 1), ('Alemanha Ocidental', 'Suécia', 1), ('Alemanha Ocidental', 'Holanda', 3), ('Alemanha Ocidental', 'Hungria', 1), ('Alemanha Ocidental', 'França', 1), ('Alemanha Ocidental', 'Espanha', 1), ('Alemanha Ocidental', 'México', 1)]\n",
            "Alemanha Oriental - Total Confrontos:  3  ->  [('Alemanha Oriental', 'Brasil', 1), ('Alemanha Oriental', 'Holanda', 1), ('Alemanha Oriental', 'Argentina', 1)]\n",
            "Argentina - Total Confrontos:  33  ->  [('Argentina', 'Holanda', 4), ('Argentina', 'Uruguai', 2), ('Argentina', 'Suíça', 1), ('Argentina', 'Alemanha Ocidental', 3), ('Argentina', 'Estados Unidos', 1), ('Argentina', 'Suécia', 1), ('Argentina', 'Bélgica', 1), ('Argentina', 'Itália', 2), ('Argentina', 'México', 2), ('Argentina', 'Peru', 1), ('Argentina', 'Alemanha', 3), ('Argentina', 'Romênia', 1), ('Argentina', 'Inglaterra', 3), ('Argentina', 'Brasil', 4), ('Argentina', 'França', 1), ('Argentina', 'Alemanha Oriental', 1), ('Argentina', 'Polónia', 1), ('Argentina', 'Iugoslávia', 1)]\n",
            "Argélia - Total Confrontos:  1  ->  [('Argélia', 'Alemanha', 1)]\n",
            "Austrália - Total Confrontos:  1  ->  [('Austrália', 'Itália', 1)]\n",
            "Brasil - Total Confrontos:  48  ->  [('Brasil', 'Tchecoslováquia', 2), ('Brasil', 'Colômbia', 1), ('Brasil', 'Bélgica', 2), ('Brasil', 'Alemanha Oriental', 1), ('Brasil', 'Estados Unidos', 1), ('Brasil', 'Turquia', 1), ('Brasil', 'Alemanha', 2), ('Brasil', 'Holanda', 4), ('Brasil', 'País de Gales', 1), ('Brasil', 'Inglaterra', 2), ('Brasil', 'Dinamarca', 1), ('Brasil', 'Peru', 2), ('Brasil', 'Espanha', 1), ('Brasil', 'Uruguai', 2), ('Brasil', 'Hungria', 1), ('Brasil', 'França', 4), ('Brasil', 'Suécia', 3), ('Brasil', 'Polónia', 3), ('Brasil', 'Gana', 1), ('Brasil', 'Argentina', 4), ('Brasil', 'Chile', 4), ('Brasil', 'Itália', 4), ('Brasil', 'México', 1)]\n",
            "Bulgária - Total Confrontos:  4  ->  [('Bulgária', 'México', 2), ('Bulgária', 'Alemanha', 1), ('Bulgária', 'Itália', 1)]\n",
            "Bélgica - Total Confrontos:  13  ->  [('Bélgica', 'Brasil', 2), ('Bélgica', 'França', 1), ('Bélgica', 'Polónia', 1), ('Bélgica', 'Alemanha', 2), ('Bélgica', 'Estados Unidos', 1), ('Bélgica', 'Argentina', 1), ('Bélgica', 'Japão', 1), ('Bélgica', 'Espanha', 1), ('Bélgica', 'Inglaterra', 1), ('Bélgica', 'União Soviética', 1), ('Bélgica', 'União Soviética', 1)]\n",
            "Camarões - Total Confrontos:  2  ->  [('Camarões', 'Colômbia', 1), ('Camarões', 'Inglaterra', 1)]\n",
            "Chile - Total Confrontos:  5  ->  [('Chile', 'União Soviética', 1), ('Chile', 'Brasil', 4)]\n",
            "Colômbia - Total Confrontos:  4  ->  [('Colômbia', 'Brasil', 1), ('Colômbia', 'Camarões', 1), ('Colômbia', 'Uruguai', 1), ('Colômbia', 'Inglaterra', 1)]\n",
            "Coreia do Norte - Total Confrontos:  1  ->  [('Coreia do Norte', 'Portugal', 1)]\n",
            "Coreia do Sul - Total Confrontos:  4  ->  [('Coreia do Sul', 'Alemanha', 1), ('Coreia do Sul', 'Espanha', 1), ('Coreia do Sul', 'Itália', 1), ('Coreia do Sul', 'Uruguai', 1)]\n",
            "Costa Rica - Total Confrontos:  3  ->  [('Costa Rica', 'Tchecoslováquia', 1), ('Costa Rica', 'Holanda', 1), ('Costa Rica', 'Grécia', 1)]\n",
            "Croácia - Total Confrontos:  7  ->  [('Croácia', 'Dinamarca', 1), ('Croácia', 'Inglaterra', 1), ('Croácia', 'França', 2), ('Croácia', 'Rússia', 1), ('Croácia', 'Alemanha', 1), ('Croácia', 'Romênia', 1)]\n",
            "Cuba - Total Confrontos:  2  ->  [('Cuba', 'Romênia', 1), ('Cuba', 'Suécia', 1)]\n",
            "Dinamarca - Total Confrontos:  5  ->  [('Dinamarca', 'Croácia', 1), ('Dinamarca', 'Brasil', 1), ('Dinamarca', 'Espanha', 1), ('Dinamarca', 'Inglaterra', 1), ('Dinamarca', 'Nigéria', 1)]\n",
            "Egito - Total Confrontos:  1  ->  [('Egito', 'Hungria', 1)]\n",
            "Equador - Total Confrontos:  1  ->  [('Equador', 'Inglaterra', 1)]\n",
            "Eslováquia - Total Confrontos:  1  ->  [('Eslováquia', 'Holanda', 1)]\n",
            "Espanha - Total Confrontos:  18  ->  [('Espanha', 'Paraguai', 1), ('Espanha', 'Suíça', 1), ('Espanha', 'Alemanha', 1), ('Espanha', 'Holanda', 1), ('Espanha', 'Dinamarca', 1), ('Espanha', 'Coreia do Sul', 1), ('Espanha', 'Brasil', 1), ('Espanha', 'França', 1), ('Espanha', 'Irlanda', 1), ('Espanha', 'Bélgica', 1), ('Espanha', 'Uruguai', 1), ('Espanha', 'Portugal', 1), ('Espanha', 'Iugoslávia', 1), ('Espanha', 'Rússia', 1), ('Espanha', 'Alemanha Ocidental', 1), ('Espanha', 'Itália', 2), ('Espanha', 'Inglaterra', 1)]\n",
            "Estados Unidos - Total Confrontos:  7  ->  [('Estados Unidos', 'Itália', 1), ('Estados Unidos', 'Brasil', 1), ('Estados Unidos', 'Alemanha', 1), ('Estados Unidos', 'Argentina', 1), ('Estados Unidos', 'Bélgica', 1), ('Estados Unidos', 'México', 1), ('Estados Unidos', 'Gana', 1)]\n",
            "França - Total Confrontos:  22  ->  [('França', 'Alemanha Ocidental', 2), ('França', 'Portugal', 1), ('França', 'Uruguai', 1), ('França', 'Croácia', 2), ('França', 'Áustria', 2), ('França', 'Paraguai', 1), ('França', 'Bélgica', 1), ('França', 'Nigéria', 1), ('França', 'Espanha', 1), ('França', 'Irlanda do Norte', 1), ('França', 'Brasil', 4), ('França', 'Alemanha Ocidental', 1), ('França', 'Argentina', 1), ('França', 'Itália', 3)]\n",
            "Gana - Total Confrontos:  3  ->  [('Gana', 'Uruguai', 1), ('Gana', 'Brasil', 1), ('Gana', 'Estados Unidos', 1)]\n",
            "Grécia - Total Confrontos:  1  ->  [('Grécia', 'Costa Rica', 1)]\n",
            "Holanda - Total Confrontos:  25  ->  [('Holanda', 'Áustria', 1), ('Holanda', 'Argentina', 4), ('Holanda', 'Alemanha Oriental', 1), ('Holanda', 'México', 1), ('Holanda', 'Eslováquia', 1), ('Holanda', 'Espanha', 1), ('Holanda', 'Brasil', 4), ('Holanda', 'Tchecoslováquia', 1), ('Holanda', 'Iugoslávia', 1), ('Holanda', 'Alemanha Ocidental', 1), ('Holanda', 'Itália', 1), ('Holanda', 'Suíça', 1), ('Holanda', 'Uruguai', 1), ('Holanda', 'Irlanda', 1), ('Holanda', 'Alemanha Ocidental', 3), ('Holanda', 'Costa Rica', 1), ('Holanda', 'Portugal', 1)]\n",
            "Hungria - Total Confrontos:  11  ->  [('Hungria', 'Itália', 1), ('Hungria', 'Áustria', 1), ('Hungria', 'Tchecoslováquia', 1), ('Hungria', 'Suíça', 1), ('Hungria', 'Brasil', 1), ('Hungria', 'União Soviética', 1), ('Hungria', 'Alemanha Ocidental', 1), ('Hungria', 'Indonésia', 1), ('Hungria', 'Suécia', 1), ('Hungria', 'Egito', 1), ('Hungria', 'Uruguai', 1)]\n",
            "Indonésia - Total Confrontos:  1  ->  [('Indonésia', 'Hungria', 1)]\n",
            "Inglaterra - Total Confrontos:  21  ->  [('Inglaterra', 'Alemanha Ocidental', 4), ('Inglaterra', 'Croácia', 1), ('Inglaterra', 'Uruguai', 1), ('Inglaterra', 'Brasil', 2), ('Inglaterra', 'Portugal', 2), ('Inglaterra', 'Equador', 1), ('Inglaterra', 'Dinamarca', 1), ('Inglaterra', 'Bélgica', 1), ('Inglaterra', 'Paraguai', 1), ('Inglaterra', 'Argentina', 3), ('Inglaterra', 'Camarões', 1), ('Inglaterra', 'Espanha', 1), ('Inglaterra', 'Suécia', 1), ('Inglaterra', 'Colômbia', 1)]\n",
            "Irlanda - Total Confrontos:  4  ->  [('Irlanda', 'Itália', 1), ('Irlanda', 'Holanda', 1), ('Irlanda', 'Espanha', 1), ('Irlanda', 'Romênia', 1)]\n",
            "Irlanda do Norte - Total Confrontos:  2  ->  [('Irlanda do Norte', 'Áustria', 1), ('Irlanda do Norte', 'França', 1)]\n",
            "Itália - Total Confrontos:  33  ->  [('Itália', 'Uruguai', 1), ('Itália', 'Estados Unidos', 1), ('Itália', 'Austrália', 1), ('Itália', 'Ucrânia', 1), ('Itália', 'Nigéria', 1), ('Itália', 'Hungria', 1), ('Itália', 'Áustria', 1), ('Itália', 'Alemanha Ocidental', 2), ('Itália', 'Polónia', 1), ('Itália', 'Irlanda', 1), ('Itália', 'Coreia do Sul', 1), ('Itália', 'Alemanha Ocidental', 3), ('Itália', 'México', 1), ('Itália', 'Noruega', 1), ('Itália', 'Holanda', 1), ('Itália', 'Tchecoslováquia', 1), ('Itália', 'Bulgária', 1), ('Itália', 'Áustria', 2), ('Itália', 'Argentina', 2), ('Itália', 'Espanha', 2), ('Itália', 'Brasil', 4), ('Itália', 'França', 3)]\n",
            "Iugoslávia - Total Confrontos:  11  ->  [('Iugoslávia', 'Alemanha Ocidental', 4), ('Iugoslávia', 'Polónia', 1), ('Iugoslávia', 'Suécia', 1), ('Iugoslávia', 'Holanda', 1), ('Iugoslávia', 'Uruguai', 1), ('Iugoslávia', 'Tchecoslováquia', 1), ('Iugoslávia', 'Espanha', 1), ('Iugoslávia', 'Argentina', 1)]\n",
            "Japão - Total Confrontos:  3  ->  [('Japão', 'Turquia', 1), ('Japão', 'Bélgica', 1), ('Japão', 'Paraguai', 1)]\n",
            "Marrocos - Total Confrontos:  1  ->  [('Marrocos', 'Alemanha Ocidental', 1)]\n",
            "México - Total Confrontos:  10  ->  [('México', 'Bulgária', 2), ('México', 'Alemanha', 1), ('México', 'Holanda', 1), ('México', 'Itália', 1), ('México', 'Argentina', 2), ('México', 'Estados Unidos', 1), ('México', 'Alemanha Ocidental', 1), ('México', 'Brasil', 1)]\n",
            "Nigéria - Total Confrontos:  3  ->  [('Nigéria', 'Itália', 1), ('Nigéria', 'França', 1), ('Nigéria', 'Dinamarca', 1)]\n",
            "Noruega - Total Confrontos:  1  ->  [('Noruega', 'Itália', 1)]\n",
            "Paraguai - Total Confrontos:  5  ->  [('Paraguai', 'Alemanha', 1), ('Paraguai', 'Espanha', 1), ('Paraguai', 'França', 1), ('Paraguai', 'Inglaterra', 1), ('Paraguai', 'Japão', 1)]\n",
            "País de Gales - Total Confrontos:  1  ->  [('País de Gales', 'Brasil', 1)]\n",
            "Peru - Total Confrontos:  4  ->  [('Peru', 'Brasil', 2), ('Peru', 'Argentina', 1), ('Peru', 'Polónia', 1)]\n",
            "Polónia - Total Confrontos:  11  ->  [('Polónia', 'Iugoslávia', 1), ('Polónia', 'Alemanha Ocidental', 1), ('Polónia', 'União Soviética', 1), ('Polónia', 'Itália', 1), ('Polónia', 'Bélgica', 1), ('Polónia', 'Brasil', 3), ('Polónia', 'Peru', 1), ('Polónia', 'Suécia', 1), ('Polónia', 'Argentina', 1)]\n",
            "Portugal - Total Confrontos:  7  ->  [('Portugal', 'França', 1), ('Portugal', 'Uruguai', 1), ('Portugal', 'Inglaterra', 2), ('Portugal', 'Espanha', 1), ('Portugal', 'Coreia do Norte', 1), ('Portugal', 'Holanda', 1)]\n",
            "Romênia - Total Confrontos:  6  ->  [('Romênia', 'Croácia', 1), ('Romênia', 'Cuba', 1), ('Romênia', 'Suécia', 1), ('Romênia', 'Tchecoslováquia', 1), ('Romênia', 'Irlanda', 1), ('Romênia', 'Argentina', 1)]\n",
            "Rússia - Total Confrontos:  2  ->  [('Rússia', 'Croácia', 1), ('Rússia', 'Espanha', 1)]\n",
            "Senegal - Total Confrontos:  2  ->  [('Senegal', 'Turquia', 1), ('Senegal', 'Suécia', 1)]\n",
            "Suécia - Total Confrontos:  20  ->  [('Suécia', 'Alemanha Ocidental', 1), ('Suécia', 'Iugoslávia', 1), ('Suécia', 'Suíça', 1), ('Suécia', 'Arábia Saudita', 1), ('Suécia', 'Senegal', 1), ('Suécia', 'Alemanha', 1), ('Suécia', 'Áustria', 1), ('Suécia', 'Argentina', 1), ('Suécia', 'Alemanha Ocidental', 1), ('Suécia', 'Brasil', 3), ('Suécia', 'Romênia', 1), ('Suécia', 'Cuba', 1), ('Suécia', 'Hungria', 1), ('Suécia', 'União Soviética', 1), ('Suécia', 'Polónia', 1), ('Suécia', 'Alemanha', 2), ('Suécia', 'Inglaterra', 1)]\n",
            "Suíça - Total Confrontos:  9  ->  [('Suíça', 'Suécia', 1), ('Suíça', 'Espanha', 1), ('Suíça', 'Áustria', 1), ('Suíça', 'Argentina', 1), ('Suíça', 'Tchecoslováquia', 1), ('Suíça', 'Hungria', 1), ('Suíça', 'Alemanha', 1), ('Suíça', 'Holanda', 1), ('Suíça', 'Ucrânia', 1)]\n",
            "Tchecoslováquia - Total Confrontos:  11  ->  [('Tchecoslováquia', 'Brasil', 2), ('Tchecoslováquia', 'Alemanha Ocidental', 1), ('Tchecoslováquia', 'Holanda', 1), ('Tchecoslováquia', 'Alemanha', 1), ('Tchecoslováquia', 'Suíça', 1), ('Tchecoslováquia', 'Costa Rica', 1), ('Tchecoslováquia', 'Hungria', 1), ('Tchecoslováquia', 'Itália', 1), ('Tchecoslováquia', 'Iugoslávia', 1), ('Tchecoslováquia', 'Romênia', 1)]\n",
            "Turquia - Total Confrontos:  3  ->  [('Turquia', 'Brasil', 1), ('Turquia', 'Japão', 1), ('Turquia', 'Senegal', 1)]\n",
            "Ucrânia - Total Confrontos:  2  ->  [('Ucrânia', 'Itália', 1), ('Ucrânia', 'Suíça', 1)]\n",
            "União Soviética - Total Confrontos:  8  ->  [('União Soviética', 'Polónia', 1), ('União Soviética', 'Alemanha Ocidental', 1), ('União Soviética', 'Hungria', 1), ('União Soviética', 'Chile', 1), ('União Soviética', 'Bélgica', 1), ('União Soviética', 'Suécia', 1), ('União Soviética', 'Bélgica', 1), ('União Soviética', 'Uruguai', 1)]\n",
            "Uruguai - Total Confrontos:  17  ->  [('Uruguai', 'Gana', 1), ('Uruguai', 'Itália', 1), ('Uruguai', 'Argentina', 2), ('Uruguai', 'França', 1), ('Uruguai', 'Inglaterra', 1), ('Uruguai', 'Portugal', 1), ('Uruguai', 'Brasil', 2), ('Uruguai', 'Alemanha Ocidental', 1), ('Uruguai', 'Holanda', 1), ('Uruguai', 'Iugoslávia', 1), ('Uruguai', 'Colômbia', 1), ('Uruguai', 'Espanha', 1), ('Uruguai', 'Coreia do Sul', 1), ('Uruguai', 'Hungria', 1), ('Uruguai', 'União Soviética', 1)]\n"
          ]
        }
      ]
    }
  ]
}