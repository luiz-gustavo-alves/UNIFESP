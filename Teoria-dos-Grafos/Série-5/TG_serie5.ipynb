{
  "nbformat": 4,
  "nbformat_minor": 0,
  "metadata": {
    "colab": {
      "provenance": [],
      "collapsed_sections": []
    },
    "kernelspec": {
      "name": "python3",
      "display_name": "Python 3"
    },
    "language_info": {
      "name": "python"
    }
  },
  "cells": [
    {
      "cell_type": "markdown",
      "source": [
        "# Introdução a Teoria de Grafos - Série 5a\n",
        "\n",
        "\n"
      ],
      "metadata": {
        "id": "9U5FTHxcZwLS"
      }
    },
    {
      "cell_type": "markdown",
      "source": [
        "*2)\tImplemente uma solução computacional que permita a uma pessoa, no caso dos 4 cubos e 4 cores, entrar para cada cubo a sequencia de cores que ele desejar.*"
      ],
      "metadata": {
        "id": "okZ-De0gNwY_"
      }
    },
    {
      "cell_type": "code",
      "source": [
        "from tabulate import tabulate\n",
        "\n",
        "class Grafo:\n",
        "    def __init__(self, vertices, arestas):\n",
        "        self.vertices = vertices\n",
        "        self.arestas = arestas\n",
        "\n",
        "    def converterStringInt(self):\n",
        "        v_list = []\n",
        "        index = []\n",
        "\n",
        "        for i in self.vertices:\n",
        "            v_list.append(i)\n",
        "            index.append(v_list.index(i))\n",
        "\n",
        "        return index, v_list\n",
        "\n",
        "    def mapearStringInt(self, index, v_list, vertice):\n",
        "        i = 0;\n",
        "        for u in v_list:\n",
        "            if (u == vertice):\n",
        "                return index[i]\n",
        "            i += 1\n",
        "\n",
        "    def obterMatrizDeIncidencia(self):\n",
        "        index, v_list = self.converterStringInt()\n",
        "\n",
        "        numeroDeVertices = len(self.vertices)\n",
        "        numeroDeArestas = len(self.arestas)\n",
        "\n",
        "        # criamos uma matriz n x m com todos os elementos sendo 0\n",
        "        matriz = [[0 for col in range(numeroDeArestas)] for row in range(numeroDeVertices)]\n",
        "\n",
        "        # passamos de aresta em aresta,\n",
        "        # preenchendo com o valor 1 os campos Aix e Ajx da matriz,\n",
        "        # onde j é o vértice que está em uma ponta da aresta, k é o que está na outra\n",
        "        # e i é o índice daquela aresta, ou seja, sua coluna\n",
        "        i = 0\n",
        "        for u, v in self.arestas:\n",
        "            j = self.mapearStringInt(index, v_list, u)\n",
        "            k = self.mapearStringInt(index, v_list, v)\n",
        "\n",
        "            matriz[j][i] = 1\n",
        "            matriz[k][i] = 1\n",
        "            i += 1\n",
        "\n",
        "        return matriz\n",
        "\n",
        "    def obterGrauDeCadaVerticeNaMatrizDeIncidencia(self, matrizDeIncidencia):\n",
        "        Graus = [0 for row in range(len(matrizDeIncidencia))]\n",
        "\n",
        "        for i in range(len(matrizDeIncidencia)):\n",
        "            for j in range(len(matrizDeIncidencia[0])):\n",
        "              if ((j + 1) % 3 != 0):\n",
        "                if (matrizDeIncidencia[i][j] == 1):\n",
        "                    Graus[i] += 1       \n",
        "        return Graus\n",
        "\n",
        "    def verificarArestaNaMatrizDeIncidencia(self, matrizDeIncidencia, vertice1, vertice2):\n",
        "        for i in range(len(matrizDeIncidencia[0])):\n",
        "            if matrizDeIncidencia[vertice1][i] == 1 and matrizDeIncidencia[vertice2][i] == 1:\n",
        "                return True\n",
        "\n",
        "        return False\n",
        "\n",
        "    def verificarSolucao(self, matrizDeIncidencia):\n",
        "      if (len(matrizDeIncidencia[0]) == 12):\n",
        "        \n",
        "        lst = []\n",
        "        for i in range(len(matrizDeIncidencia)):\n",
        "          for j in range(2, len(matrizDeIncidencia[0]), 3):\n",
        "            if (matrizDeIncidencia[i][j] == 1):\n",
        "                lst.append((i, j))\n",
        "\n",
        "        lst.sort(key = lambda x: x[1])\n",
        "        Graus = self.obterGrauDeCadaVerticeNaMatrizDeIncidencia(matrizDeIncidencia)\n",
        "\n",
        "        # Verifica se há intersecção de cores para as faces de cima e baixo.\n",
        "        for u, v in lst:\n",
        "          if (matrizDeIncidencia[u][v - 2] == 1) or (matrizDeIncidencia[u][v - 1] == 1):\n",
        "            print(\"Solução Impossível - Grau dos vértices: \", Graus)\n",
        "            return \"\" \n",
        "\n",
        "        # Verifica se todos os vértices do grafo possuem grau igual a 2.\n",
        "        # Se sim, verifica a quantidade de loops no grafo\n",
        "        if (Graus.count(Graus[0]) == len(Graus) == 4):\n",
        "          count_loop = 0\n",
        "          \n",
        "          for v in range(len(matrizDeIncidencia)):\n",
        "            if (self.verificarArestaNaMatrizDeIncidencia(matrizDeIncidencia, v, v)):\n",
        "              count_loop += 1\n",
        "\n",
        "          if (count_loop == 1) or (count_loop == 2) or (count_loop == 4):\n",
        "            print(\"Solução Válida - Grau dos vértices: \", Graus, \"- Quantidade de Loops: \", count_loop)\n",
        "            return \"\" \n",
        "\n",
        "      print(\"Solução Impossível - Grau dos vértices: \", Graus)\n",
        "      return \"\"  \n",
        "\n",
        "#   REPRESENTAÇÃO GRÁFICA DO CUBO: ('Y','B'), ('R','G'), ('Y','G')\n",
        "#\n",
        "#             Y\n",
        "#             |\n",
        "#        R -- Y -- G\n",
        "#             |\n",
        "#             B\n",
        "#             |\n",
        "#             G\n",
        "\n",
        "V = [\"B\", \"G\", \"R\", \"Y\"]\n",
        "\n",
        "E_1 = [ ('B','B'), ('G','R'), ('R','G'),\n",
        "      ('Y','Y'), ('G','G'), ('Y','Y'),\n",
        "      ('Y','B'), ('R','G'), ('Y','G'),\n",
        "      ('Y','G'), ('R','B'), ('Y','R') ]          \n",
        "\n",
        "G = Grafo(V, E_1)\n",
        "print(\"VERTICES DO GRAFO: \", G.vertices);\n",
        "print(\"ARESTAS DO GRAFO: \", G.arestas);\n",
        "\n",
        "MI = G.obterMatrizDeIncidencia()\n",
        "print('Matriz de Incidência:')\n",
        "print(tabulate(MI, headers=E_1, showindex=V, tablefmt=\"fancy_grid\"))\n",
        "\n",
        "print(G.verificarSolucao(MI))\n",
        "\n",
        "E_2 = [ ('B','B'), ('R','R'), ('Y','G'),\n",
        "      ('Y','Y'), ('G','G'), ('R','B'),\n",
        "      ('B','B'), ('R','R'), ('Y','G'),\n",
        "      ('Y','Y'), ('G','G'), ('R','B') ]\n",
        "\n",
        "G = Grafo(V, E_2)\n",
        "print(\"VERTICES DO GRAFO: \", G.vertices);\n",
        "print(\"ARESTAS DO GRAFO: \", G.arestas);\n",
        "\n",
        "MI = G.obterMatrizDeIncidencia()\n",
        "print('Matriz de Incidência:')\n",
        "print(tabulate(MI, headers=E_2, showindex=V, tablefmt=\"fancy_grid\"))\n",
        "print(G.verificarSolucao(MI))"
      ],
      "metadata": {
        "id": "4T4Qi87PN38S",
        "colab": {
          "base_uri": "https://localhost:8080/"
        },
        "outputId": "663c0c8e-0f43-4452-a540-d7b09fc03baa"
      },
      "execution_count": null,
      "outputs": [
        {
          "output_type": "stream",
          "name": "stdout",
          "text": [
            "VERTICES DO GRAFO:  ['B', 'G', 'R', 'Y']\n",
            "ARESTAS DO GRAFO:  [('B', 'B'), ('G', 'R'), ('R', 'G'), ('Y', 'Y'), ('G', 'G'), ('Y', 'Y'), ('Y', 'B'), ('R', 'G'), ('Y', 'G'), ('Y', 'G'), ('R', 'B'), ('Y', 'R')]\n",
            "Matriz de Incidência:\n",
            "╒════╤══════════════╤══════════════╤══════════════╤══════════════╤══════════════╤══════════════╤══════════════╤══════════════╤══════════════╤══════════════╤══════════════╤══════════════╕\n",
            "│    │   ('B', 'B') │   ('G', 'R') │   ('R', 'G') │   ('Y', 'Y') │   ('G', 'G') │   ('Y', 'Y') │   ('Y', 'B') │   ('R', 'G') │   ('Y', 'G') │   ('Y', 'G') │   ('R', 'B') │   ('Y', 'R') │\n",
            "╞════╪══════════════╪══════════════╪══════════════╪══════════════╪══════════════╪══════════════╪══════════════╪══════════════╪══════════════╪══════════════╪══════════════╪══════════════╡\n",
            "│ B  │            1 │            0 │            0 │            0 │            0 │            0 │            1 │            0 │            0 │            0 │            1 │            0 │\n",
            "├────┼──────────────┼──────────────┼──────────────┼──────────────┼──────────────┼──────────────┼──────────────┼──────────────┼──────────────┼──────────────┼──────────────┼──────────────┤\n",
            "│ G  │            0 │            1 │            1 │            0 │            1 │            0 │            0 │            1 │            1 │            1 │            0 │            0 │\n",
            "├────┼──────────────┼──────────────┼──────────────┼──────────────┼──────────────┼──────────────┼──────────────┼──────────────┼──────────────┼──────────────┼──────────────┼──────────────┤\n",
            "│ R  │            0 │            1 │            1 │            0 │            0 │            0 │            0 │            1 │            0 │            0 │            1 │            1 │\n",
            "├────┼──────────────┼──────────────┼──────────────┼──────────────┼──────────────┼──────────────┼──────────────┼──────────────┼──────────────┼──────────────┼──────────────┼──────────────┤\n",
            "│ Y  │            0 │            0 │            0 │            1 │            0 │            1 │            1 │            0 │            1 │            1 │            0 │            1 │\n",
            "╘════╧══════════════╧══════════════╧══════════════╧══════════════╧══════════════╧══════════════╧══════════════╧══════════════╧══════════════╧══════════════╧══════════════╧══════════════╛\n",
            "Solução Impossível - Grau dos vértices:  [3, 4, 3, 3]\n",
            "\n",
            "VERTICES DO GRAFO:  ['B', 'G', 'R', 'Y']\n",
            "ARESTAS DO GRAFO:  [('B', 'B'), ('R', 'R'), ('Y', 'G'), ('Y', 'Y'), ('G', 'G'), ('R', 'B'), ('B', 'B'), ('R', 'R'), ('Y', 'G'), ('Y', 'Y'), ('G', 'G'), ('R', 'B')]\n",
            "Matriz de Incidência:\n",
            "╒════╤══════════════╤══════════════╤══════════════╤══════════════╤══════════════╤══════════════╤══════════════╤══════════════╤══════════════╤══════════════╤══════════════╤══════════════╕\n",
            "│    │   ('B', 'B') │   ('R', 'R') │   ('Y', 'G') │   ('Y', 'Y') │   ('G', 'G') │   ('R', 'B') │   ('B', 'B') │   ('R', 'R') │   ('Y', 'G') │   ('Y', 'Y') │   ('G', 'G') │   ('R', 'B') │\n",
            "╞════╪══════════════╪══════════════╪══════════════╪══════════════╪══════════════╪══════════════╪══════════════╪══════════════╪══════════════╪══════════════╪══════════════╪══════════════╡\n",
            "│ B  │            1 │            0 │            0 │            0 │            0 │            1 │            1 │            0 │            0 │            0 │            0 │            1 │\n",
            "├────┼──────────────┼──────────────┼──────────────┼──────────────┼──────────────┼──────────────┼──────────────┼──────────────┼──────────────┼──────────────┼──────────────┼──────────────┤\n",
            "│ G  │            0 │            0 │            1 │            0 │            1 │            0 │            0 │            0 │            1 │            0 │            1 │            0 │\n",
            "├────┼──────────────┼──────────────┼──────────────┼──────────────┼──────────────┼──────────────┼──────────────┼──────────────┼──────────────┼──────────────┼──────────────┼──────────────┤\n",
            "│ R  │            0 │            1 │            0 │            0 │            0 │            1 │            0 │            1 │            0 │            0 │            0 │            1 │\n",
            "├────┼──────────────┼──────────────┼──────────────┼──────────────┼──────────────┼──────────────┼──────────────┼──────────────┼──────────────┼──────────────┼──────────────┼──────────────┤\n",
            "│ Y  │            0 │            0 │            1 │            1 │            0 │            0 │            0 │            0 │            1 │            1 │            0 │            0 │\n",
            "╘════╧══════════════╧══════════════╧══════════════╧══════════════╧══════════════╧══════════════╧══════════════╧══════════════╧══════════════╧══════════════╧══════════════╧══════════════╛\n",
            "Solução Válida - Grau dos vértices:  [2, 2, 2, 2] - Quantidade de Loops:  4\n",
            "\n"
          ]
        }
      ]
    },
    {
      "cell_type": "markdown",
      "source": [
        "*4)\tConceba uma estratégia para determinar se dois grafos são isomorfos. Implemente computacionalmente sua estratégia. Teste-a para vários casos e mostre eventuais situações onde sua estratégia não funciona.*"
      ],
      "metadata": {
        "id": "hIsZGd3vg-Yd"
      }
    },
    {
      "cell_type": "code",
      "execution_count": null,
      "metadata": {
        "id": "WHox4-p-Y7T3",
        "colab": {
          "base_uri": "https://localhost:8080/"
        },
        "outputId": "6e850e87-558c-4229-d882-1b85df0bf057"
      },
      "outputs": [
        {
          "output_type": "stream",
          "name": "stdout",
          "text": [
            "Grafo 1:  {('Robert Downey Jr', 'Tom Holland'), ('Gwyneth Paltrow', 'Robert Downey Jr'), ('Gwyneth Paltrow', 'Tom Holland')}\n",
            "Grafo 2:  {('Bennedict Cumberbatch', 'Chris Hemsworth'), ('Chris Hemsworth', 'Mark Ruffalo')}\n",
            "Nenhum dos grafos é subgrafo do outro!\n",
            "\n",
            "Grafo 1:  {('Robert Downey Jr', 'Tom Holland'), ('Gwyneth Paltrow', 'Robert Downey Jr'), ('Gwyneth Paltrow', 'Tom Holland')}\n",
            "Grafo 3:  {('Robert Downey Jr', 'Chris Hemsworth'), ('Robert Downey Jr', 'Mark Ruffalo'), ('Chris Hemsworth', 'Mark Ruffalo')}\n",
            "Os Grafos são isoformos\n",
            "\n"
          ]
        }
      ],
      "source": [
        "def verificarIsoformismo(G1, G2):\n",
        "    # Verifica se ambos grafos possuem o mesmo número de vertices e arestas\n",
        "    if len(G1.vertices) == len(G2.vertices):\n",
        "      if len(G1.arestas) == len(G2.arestas):\n",
        "\n",
        "        Graus_G1 = G1.obterGrauDeCadaVerticeNoGrafo()\n",
        "        Graus_G2 = G2.obterGrauDeCadaVerticeNoGrafo()\n",
        "\n",
        "        # Verifica se os grafos possuem o mesmo grau, em ordem, para todos os vértices\n",
        "        if all(item in Graus_G1 for item in Graus_G2):\n",
        "            return \"Os Grafos são isoformos\\n\"\n",
        "\n",
        "    # Se não for nenhum dos casos:\n",
        "    return \"Nenhum dos grafos é subgrafo do outro!\\n\"\n",
        "\n",
        "v_art_1 = ['Gwyneth Paltrow', 'Robert Downey Jr', 'Tom Holland']\n",
        "e_art_1 = {('Gwyneth Paltrow', 'Robert Downey Jr'), ('Gwyneth Paltrow', 'Tom Holland'), ('Robert Downey Jr', 'Tom Holland')}\n",
        "GArtistas_1 = Grafo(v_art_1, e_art_1)\n",
        "\n",
        "v_art_2 = ['Bennedict Cumberbatch', 'Chris Hemsworth', 'Mark Ruffalo']\n",
        "e_art_2 = {('Bennedict Cumberbatch', 'Chris Hemsworth'), ('Chris Hemsworth', 'Mark Ruffalo')}\n",
        "GArtistas_2 = Grafo(v_art_2, e_art_2)\n",
        "\n",
        "v_art_3 = ['Robert Downey Jr', 'Chris Hemsworth', 'Mark Ruffalo']\n",
        "e_art_3 = {('Robert Downey Jr', 'Chris Hemsworth'), ('Chris Hemsworth', 'Mark Ruffalo'), ('Robert Downey Jr', 'Mark Ruffalo')}\n",
        "GArtistas_3 = Grafo(v_art_3, e_art_3)\n",
        "\n",
        "print(\"Grafo 1: \", GArtistas_1.arestas)\n",
        "print(\"Grafo 2: \", GArtistas_2.arestas)\n",
        "print(verificarIsoformismo(GArtistas_1, GArtistas_2))\n",
        "\n",
        "print(\"Grafo 1: \", GArtistas_1.arestas)\n",
        "print(\"Grafo 3: \", GArtistas_3.arestas)\n",
        "print(verificarIsoformismo(GArtistas_1, GArtistas_3))"
      ]
    },
    {
      "cell_type": "markdown",
      "source": [
        "*5)\tConsidere um grafo G e dois de seus subgrupos G1 e G2:*\n",
        "\n",
        "- Desenvolva uma estratégia e a implemente que verifique se de fato G* é um subgrafo de G;"
      ],
      "metadata": {
        "id": "wzeMPsrCa80F"
      }
    },
    {
      "cell_type": "code",
      "source": [
        "def verificarSubgrafoNoGrafo(grafo, grafoLinha):\n",
        "    # Verifica se o grafo possui um número menor de vertices e arestas do que o grafo linha\n",
        "    # Se sim, verifica se todos os vertices e as arestas de G estão em G', sendo assim um subgrafo\n",
        "    if len(grafo.vertices) <= len(grafoLinha.vertices) and len(grafo.arestas) <= len(grafoLinha.arestas):\n",
        "        if all(item in grafoLinha.vertices for item in grafo.vertices):\n",
        "          if all(item in grafoLinha.arestas for item in grafo.arestas):\n",
        "            return grafoLinha.arestas, \"O grafo G é subgrafo de G'!\"\n",
        "\n",
        "    # Verifica se o grafo linha possui um número menor de vertices e arestas do que o grafo\n",
        "    # Se sim, verifica se todos os vertices e as arestas de G' estão em G, sendo assim um subgrafo\n",
        "    if len(grafoLinha.vertices) <= len(grafo.vertices) and len(grafoLinha.arestas) <= len(grafo.arestas):\n",
        "        if all(item in grafo.vertices for item in grafoLinha.vertices):\n",
        "          if all(item in grafo.vertices for item in grafoLinha.vertices):\n",
        "            return grafoLinha.arestas, \"O grafo G' é subgrafo de G!\"\n",
        "\n",
        "    # Se não for nenhum dos casos, G e G' não são subgrafos\n",
        "    return \"Nenhum dos grafos é subgrafo do outro!\""
      ],
      "metadata": {
        "id": "At-9jhw6bWwA"
      },
      "execution_count": null,
      "outputs": []
    },
    {
      "cell_type": "markdown",
      "source": [
        "- Verifique se G1 e G2 são de fato subgrafos de G;"
      ],
      "metadata": {
        "id": "gmz405jPbXyf"
      }
    },
    {
      "cell_type": "code",
      "source": [
        "v_art = ['Bennedict Cumberbatch', 'Chris Evans', 'Chris Hemsworth', 'Elizabeth Oslen', 'Gwyneth Paltrow',\n",
        "             'Jeremy Renner', 'Mark Ruffalo', 'Paul Bettany', 'Robert Downey Jr', 'Samuel L. Jackson',\n",
        "             'Scarllet Johansson', 'Tom Holland']\n",
        "\n",
        "e_art = {('Bennedict Cumberbatch', 'Chris Hemsworth'), ('Chris Evans', 'Elizabeth Oslen'), ('Chris Evans', 'Samuel L. Jackson'),\n",
        "             ('Chris Evans', 'Scarllet Johansson'), ('Chris Hemsworth', 'Jeremy Renner'), ('Chris Hemsworth', 'Mark Ruffalo'), ('Chris Hemsworth', 'Samuel L. Jackson'),\n",
        "             ('Elizabeth Oslen', 'Robert Downey Jr'), ('Gwyneth Paltrow', 'Robert Downey Jr'), ('Gwyneth Paltrow', 'Scarllet Johansson'),\n",
        "             ('Gwyneth Paltrow', 'Tom Holland'), ('Mark Ruffalo', 'Robert Downey Jr'), ('Paul Bettany', 'Robert Downey Jr'),\n",
        "             ('Robert Downey Jr', 'Scarllet Johansson'), ('Robert Downey Jr', 'Samuel L. Jackson'), ('Robert Downey Jr', 'Tom Holland')}\n",
        "\n",
        "GArtistas = Grafo(v_art, e_art)\n",
        "\n",
        "v_art_sub_1 = ['Gwyneth Paltrow', 'Robert Downey Jr', 'Tom Holland']\n",
        "e_art_sub_1 = {('Gwyneth Paltrow', 'Robert Downey Jr'), ('Gwyneth Paltrow', 'Tom Holland'), ('Robert Downey Jr', 'Tom Holland')}\n",
        "GArtistas_sub_1 = Grafo(v_art_sub_1, e_art_sub_1)\n",
        "\n",
        "v_art_sub_2 = ['Bennedict Cumberbatch', 'Chris Hemsworth', 'Mark Ruffalo']\n",
        "e_art_sub_2 = {('Bennedict Cumberbatch', 'Chris Hemsworth'), ('Chris Hemsworth', 'Mark Ruffalo')}\n",
        "GArtistas_sub_2 = Grafo(v_art_sub_2, e_art_sub_2)\n",
        "\n",
        "print(\"Grafo: \", GArtistas.arestas)\n",
        "print(\"Subgrafo_G1: \", GArtistas.verificarSubgrafoNoGrafo(GArtistas_sub_1))\n",
        "print(\"Subgrafo_G2: \", GArtistas.verificarSubgrafoNoGrafo(GArtistas_sub_2))"
      ],
      "metadata": {
        "id": "tq8gYbwfbecw",
        "colab": {
          "base_uri": "https://localhost:8080/"
        },
        "outputId": "75e6ce57-5011-4484-a24e-b90dcdc55d54"
      },
      "execution_count": null,
      "outputs": [
        {
          "output_type": "stream",
          "name": "stdout",
          "text": [
            "Grafo:  {('Chris Hemsworth', 'Samuel L. Jackson'), ('Robert Downey Jr', 'Samuel L. Jackson'), ('Chris Evans', 'Samuel L. Jackson'), ('Paul Bettany', 'Robert Downey Jr'), ('Bennedict Cumberbatch', 'Chris Hemsworth'), ('Elizabeth Oslen', 'Robert Downey Jr'), ('Gwyneth Paltrow', 'Scarllet Johansson'), ('Gwyneth Paltrow', 'Tom Holland'), ('Robert Downey Jr', 'Scarllet Johansson'), ('Robert Downey Jr', 'Tom Holland'), ('Chris Hemsworth', 'Mark Ruffalo'), ('Mark Ruffalo', 'Robert Downey Jr'), ('Chris Evans', 'Elizabeth Oslen'), ('Chris Evans', 'Scarllet Johansson'), ('Gwyneth Paltrow', 'Robert Downey Jr'), ('Chris Hemsworth', 'Jeremy Renner')}\n",
            "Subgrafo_G1:  ({('Gwyneth Paltrow', 'Tom Holland'), ('Gwyneth Paltrow', 'Robert Downey Jr'), ('Robert Downey Jr', 'Tom Holland')}, \"O grafo G' é subgrafo de G!\")\n",
            "Subgrafo_G2:  ({('Bennedict Cumberbatch', 'Chris Hemsworth'), ('Chris Hemsworth', 'Mark Ruffalo')}, \"O grafo G' é subgrafo de G!\")\n"
          ]
        }
      ]
    },
    {
      "cell_type": "markdown",
      "source": [
        "Acrescente à sua estratégia e rotina anterior um recurso para detectar se o subgrafo é: \n",
        "- (i) disjunto em aresta; \n",
        "- (ii) disjunto em vértice;"
      ],
      "metadata": {
        "id": "2Vyg6NzbbfHG"
      }
    },
    {
      "cell_type": "code",
      "source": [
        "def verificarSubgrafoNoGrafo(grafo, grafoLinha):\n",
        "    # Verifica se o grafo possui um número menor de vertices e arestas do que o grafo linha\n",
        "    # Se sim, verifica se todos os vertices e as arestas de G estão em G', sendo assim um subgrafo\n",
        "    if len(grafo.vertices) <= len(grafoLinha.vertices) and len(grafo.arestas) <= len(grafoLinha.arestas):\n",
        "        if all(item in grafoLinha.vertices for item in grafo.vertices):\n",
        "          if all(item in grafoLinha.arestas for item in grafo.arestas):\n",
        "            return grafoLinha.arestas, \"O grafo G é subgrafo de G'!\"\n",
        "\n",
        "    # Verifica se o grafo linha possui um número menor de vertices e arestas do que o grafo\n",
        "    # Se sim, verifica se todos os vertices e as arestas de G' estão em G, sendo assim um subgrafo\n",
        "    if len(grafoLinha.vertices) <= len(grafo.vertices) and len(grafoLinha.arestas) <= len(grafo.arestas):\n",
        "        if all(item in grafo.vertices for item in grafoLinha.vertices):\n",
        "          if all(item in grafo.vertices for item in grafoLinha.vertices):\n",
        "            return grafoLinha.arestas, \"O grafo G' é subgrafo de G!\"\n",
        "\n",
        "            \n",
        "    # Se não for nenhum dos casos, verificar se os grafos G e G' são disjuntos em arestas e/ou vértices\n",
        "    if not(any(item in grafoLinha.arestas for item in grafo.arestas)):\n",
        "      print(\"Os Grafos G e G' são disjuntos em arestas!\")\n",
        "    if not(any(item in grafoLinha.vertices for item in grafo.vertices)):\n",
        "        print(\"Os Grafos G e G' são disjuntos em vertices!\")\n",
        "        return \"Nenhum dos grafos é subgrafo do outro!\"\n",
        "\n",
        "    return \"\"  "
      ],
      "metadata": {
        "id": "XXbRDfi-b6ma"
      },
      "execution_count": null,
      "outputs": []
    },
    {
      "cell_type": "markdown",
      "source": [
        "- Teste seus desenvolvimentos;"
      ],
      "metadata": {
        "id": "SW0ZoPiDb7oT"
      }
    },
    {
      "cell_type": "code",
      "source": [
        "v_art = ['Bennedict Cumberbatch', 'Chris Evans', 'Chris Hemsworth', 'Elizabeth Oslen', 'Gwyneth Paltrow',\n",
        "             'Jeremy Renner', 'Mark Ruffalo', 'Paul Bettany', 'Robert Downey Jr', 'Samuel L. Jackson',\n",
        "             'Scarllet Johansson', 'Tom Holland']\n",
        "\n",
        "e_art = {('Bennedict Cumberbatch', 'Chris Hemsworth'), ('Chris Evans', 'Elizabeth Oslen'), ('Chris Evans', 'Samuel L. Jackson'),\n",
        "             ('Chris Evans', 'Scarllet Johansson'), ('Chris Hemsworth', 'Jeremy Renner'), ('Chris Hemsworth', 'Mark Ruffalo'), ('Chris Hemsworth', 'Samuel L. Jackson'),\n",
        "             ('Elizabeth Oslen', 'Robert Downey Jr'), ('Gwyneth Paltrow', 'Robert Downey Jr'), ('Gwyneth Paltrow', 'Scarllet Johansson'),\n",
        "             ('Gwyneth Paltrow', 'Tom Holland'), ('Mark Ruffalo', 'Robert Downey Jr'), ('Paul Bettany', 'Robert Downey Jr'),\n",
        "             ('Robert Downey Jr', 'Scarllet Johansson'), ('Robert Downey Jr', 'Samuel L. Jackson'), ('Robert Downey Jr', 'Tom Holland')}\n",
        "\n",
        "GArtistas = Grafo(v_art, e_art)\n",
        "\n",
        "v_art_sub_1 = ['Gwyneth Paltrow', 'Robert Downey Jr', 'Tom Holland']\n",
        "e_art_sub_1 = {('Gwyneth Paltrow', 'Robert Downey Jr'), ('Gwyneth Paltrow', 'Tom Holland'), ('Robert Downey Jr', 'Tom Holland')}\n",
        "GArtistas_sub_1 = Grafo(v_art_sub_1, e_art_sub_1)\n",
        "\n",
        "v_art_sub_2 = ['Bennedict Cumberbatch', 'Chris Hemsworth', 'Mark Ruffalo']\n",
        "e_art_sub_2 = {('Bennedict Cumberbatch', 'Chris Hemsworth'), ('Chris Hemswort', 'Mark Ruffalo')}\n",
        "GArtistas_sub_2 = Grafo(v_art_sub_2, e_art_sub_2)\n",
        "\n",
        "v_art_sub_3 = ['Chris Hemsworth', 'Mark Ruffalo', 'Robert Downey Jr']\n",
        "e_art_sub_3 = {('Chris Hemsworth', 'Mark Ruffalo'), ('Robert Downey Jr', 'Mark Ruffalo')}\n",
        "GArtistas_sub_3 = Grafo(v_art_sub_3, e_art_sub_3)\n",
        "\n",
        "print(\"Subgrafo_G1: \", GArtistas_sub_1.arestas)\n",
        "print(\"Subgrafo_G2: \", GArtistas_sub_2.arestas)\n",
        "print(GArtistas_sub_1.verificarSubgrafoNoGrafo(GArtistas_sub_2))\n",
        "\n",
        "print(\"Subgrafo_G1: \", GArtistas_sub_1.arestas)\n",
        "print(\"Subgrafo_G3: \", GArtistas_sub_3.arestas)\n",
        "print(GArtistas_sub_1.verificarSubgrafoNoGrafo(GArtistas_sub_3))\n",
        "\n",
        "print(\"Subgrafo_G2: \", GArtistas_sub_2.arestas)\n",
        "print(\"Subgrafo_G3: \", GArtistas_sub_3.arestas)\n",
        "print(GArtistas_sub_2.verificarSubgrafoNoGrafo(GArtistas_sub_3))"
      ],
      "metadata": {
        "id": "uMYkunveb_VF",
        "colab": {
          "base_uri": "https://localhost:8080/"
        },
        "outputId": "34676f22-9bfc-47fa-9aa9-29c40ed0a423"
      },
      "execution_count": null,
      "outputs": [
        {
          "output_type": "stream",
          "name": "stdout",
          "text": [
            "Subgrafo_G1:  {('Gwyneth Paltrow', 'Tom Holland'), ('Gwyneth Paltrow', 'Robert Downey Jr'), ('Robert Downey Jr', 'Tom Holland')}\n",
            "Subgrafo_G2:  {('Bennedict Cumberbatch', 'Chris Hemsworth'), ('Chris Hemswort', 'Mark Ruffalo')}\n",
            "Os Grafos G e G' são disjuntos em arestas!\n",
            "Os Grafos G e G' são disjuntos em vertices!\n",
            "Nenhum dos grafos é subgrafo do outro!\n",
            "\n",
            "Subgrafo_G1:  {('Gwyneth Paltrow', 'Tom Holland'), ('Gwyneth Paltrow', 'Robert Downey Jr'), ('Robert Downey Jr', 'Tom Holland')}\n",
            "Subgrafo_G3:  {('Chris Hemsworth', 'Mark Ruffalo'), ('Robert Downey Jr', 'Mark Ruffalo')}\n",
            "Os Grafos G e G' são disjuntos em arestas!\n",
            "\n",
            "Subgrafo_G2:  {('Bennedict Cumberbatch', 'Chris Hemsworth'), ('Chris Hemswort', 'Mark Ruffalo')}\n",
            "Subgrafo_G3:  {('Chris Hemsworth', 'Mark Ruffalo'), ('Robert Downey Jr', 'Mark Ruffalo')}\n",
            "Os Grafos G e G' são disjuntos em arestas!\n",
            "\n"
          ]
        }
      ]
    }
  ]
}