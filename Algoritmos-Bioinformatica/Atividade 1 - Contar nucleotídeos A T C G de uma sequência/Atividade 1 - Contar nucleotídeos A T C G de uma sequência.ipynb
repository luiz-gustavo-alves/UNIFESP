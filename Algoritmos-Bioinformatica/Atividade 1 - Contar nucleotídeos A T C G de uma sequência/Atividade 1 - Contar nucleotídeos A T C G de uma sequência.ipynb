{
  "nbformat": 4,
  "nbformat_minor": 0,
  "metadata": {
    "colab": {
      "provenance": []
    },
    "kernelspec": {
      "name": "python3",
      "display_name": "Python 3"
    },
    "language_info": {
      "name": "python"
    }
  },
  "cells": [
    {
      "cell_type": "markdown",
      "source": [
        "## Atividade 1 - Contar nucleotídeos A T C G de uma sequência ##\n",
        "\n",
        "<blockquote> Algoritmo:\n",
        "\n",
        "- Criar varíavel/array/lista para armazenar a contagem do número de bases de nucleotídeos.\n",
        "- Criar um loop percorrendo a string da primeira até última posição.\n",
        "- Verificar cada carectere da string percorrida e incrementar, em uma unidade, o número do nucleotídeo da base correspondente.\n",
        "- Somar a quantidade total de cada base de nucleotídeos.\n",
        "</blockquote>\n"
      ],
      "metadata": {
        "id": "2wo9yCMJaFVR"
      }
    },
    {
      "cell_type": "code",
      "execution_count": 3,
      "metadata": {
        "colab": {
          "base_uri": "https://localhost:8080/"
        },
        "id": "CITgPIWyUGaC",
        "outputId": "4c3a3e4c-cce2-4201-b0cf-4f259c166548"
      },
      "outputs": [
        {
          "name": "stdout",
          "output_type": "stream",
          "text": [
            "Insira a sequência de DNA: AGCTTTTCATTCTGACTGCAACGGGCAATATGTCTCTGTGTGGATTAAAAAAAGAGTGTCTGATAGCAGC\n"
          ]
        }
      ],
      "source": [
        "# Leitura da entrada de caracteres \n",
        "DNA = input(\"Insira a sequência de DNA: \")"
      ]
    },
    {
      "cell_type": "code",
      "source": [
        "# Lista para armazenar a quantidade de bases de nucleotídeos\n",
        "count_base = [0, 0, 0, 0]\n",
        "\n",
        "for base in DNA:\n",
        "  \n",
        "    if (base == \"A\"):\n",
        "      count_base[0] += 1\n",
        "\n",
        "    if (base == \"C\"):\n",
        "      count_base[1] += 1\n",
        "\n",
        "    if (base == \"G\"):\n",
        "      count_base[2] += 1\n",
        "\n",
        "    if (base == \"T\"):\n",
        "      count_base[3] += 1\n",
        "\n",
        "print(\"A: \", count_base[0])\n",
        "print(\"C: \", count_base[1])\n",
        "print(\"G: \", count_base[2])\n",
        "print(\"T: \", count_base[3])\n",
        "\n",
        "total_base = count_base[0] + count_base[1] + count_base[2] + count_base[3]\n",
        "\n",
        "print(\"Total: \", total_base, \"nucleotídeos\")"
      ],
      "metadata": {
        "colab": {
          "base_uri": "https://localhost:8080/"
        },
        "id": "AtNWEOQaUZtQ",
        "outputId": "ab731b47-6f31-48c5-e836-eaa902b9376c"
      },
      "execution_count": 5,
      "outputs": [
        {
          "output_type": "stream",
          "name": "stdout",
          "text": [
            "A:  20\n",
            "C:  12\n",
            "G:  17\n",
            "T:  21\n",
            "Total:  70 nucleotídeos\n"
          ]
        }
      ]
    }
  ]
}