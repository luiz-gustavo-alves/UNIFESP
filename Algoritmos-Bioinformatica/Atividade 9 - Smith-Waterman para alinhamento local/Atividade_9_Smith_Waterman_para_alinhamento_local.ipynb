{
  "cells": [
    {
      "cell_type": "markdown",
      "metadata": {
        "id": "nszox298J3qK"
      },
      "source": [
        "# Introdução\n",
        "\n",
        "O algoritmo Smith-Waterman é um dos algoritmos mais importantes para alinhamento local de sequências biológicas, como DNA ou RNA, ou seja, determina se duas sequências biológicas possuem um fragmento em comum, ou são de grande similaridade biológica, levando em consideração possíveis mutações, inserções ou deleções de elementos dentro de uma string.\n"
      ]
    },
    {
      "cell_type": "markdown",
      "metadata": {
        "id": "iiaNVoSyDbEh"
      },
      "source": [
        "# Algoritmo Smith-Waterman\n",
        "\n",
        "A programção dinâmica é utilizada para facilitar a construção e preenchimento da matriz de escore de alinhamento local.\n",
        "![Smith-Waterman.jpg](data:image/jpeg;base64,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)\n",
        "\n",
        "- H é a matriz e H(i, j) é um elemento da linha \"i\" e coluna \"j\".\n",
        "- H(i-1, j-1) é o elemento da linha (i-1) e coluna (j-1).\n",
        "- s(ai, bj) é uma função de similaridade com valores definidos pelo usuário, se forem iguais (match) recebe o valor de match, caso contrário (missmatch) recebe o valor missmach.\n",
        "- H(i-k, j) é o elemento (célula) acima.\n",
        "- H(i, j-l) é o elemento (célula) a esquerda.\n",
        "- Wk e Wl (gap penalty) representam uma penalidade por lacuna."
      ]
    },
    {
      "cell_type": "markdown",
      "metadata": {
        "id": "U1O_2X4uLDnL"
      },
      "source": [
        "# Código para alinhamento local"
      ]
    },
    {
      "cell_type": "markdown",
      "metadata": {
        "id": "__l5A6C6Geah"
      },
      "source": [
        "## Valores para match, missmatch e gap"
      ]
    },
    {
      "cell_type": "code",
      "execution_count": 58,
      "metadata": {
        "id": "4Ekz9h3zGqb3"
      },
      "outputs": [],
      "source": [
        "match_score = 5\n",
        "mismatch_score = -3\n",
        "gap_score = -4"
      ]
    },
    {
      "cell_type": "markdown",
      "metadata": {
        "id": "p9ssZJ2RHqN_"
      },
      "source": [
        "## Desenvolvimento do código"
      ]
    },
    {
      "cell_type": "markdown",
      "metadata": {
        "id": "gRvIJ2tWH0m9"
      },
      "source": [
        "### Iniciar tabela"
      ]
    },
    {
      "cell_type": "code",
      "execution_count": 59,
      "metadata": {
        "id": "WoLgsIMuH2mA"
      },
      "outputs": [],
      "source": [
        "def init_table(dimension):\n",
        "\n",
        "    m, n = dimension[0], dimension[1]\n",
        "\n",
        "    table = [[0 for _ in range(0, n)] for _ in range(0, m)]\n",
        "    pointer_table = [[0 for _ in range(0, n-1)] for _ in range(0, m-1)]\n",
        "\n",
        "    k, q = 0, 0\n",
        "    for i in range(0, m):\n",
        "        table[i][0] = k\n",
        "        k = k - 2\n",
        "\n",
        "    for i in range(0, n):\n",
        "        table[0][i] = q\n",
        "        q = q - 2\n",
        "\n",
        "    return pointer_table, table"
      ]
    },
    {
      "cell_type": "markdown",
      "metadata": {
        "id": "Oozt-bH-IPy9"
      },
      "source": [
        "### Comparação Nucleotídeos"
      ]
    },
    {
      "cell_type": "code",
      "execution_count": 60,
      "metadata": {
        "id": "bqQghrwiITEm"
      },
      "outputs": [],
      "source": [
        "def nucleotideComparison(nucleotide_1, nucleotide_2):\n",
        "\n",
        "    if nucleotide_1 == nucleotide_2:\n",
        "        return match_score\n",
        "\n",
        "    if nucleotide_1 != nucleotide_2:\n",
        "        return mismatch_score\n",
        "\n",
        "    if nucleotide_1 == \"_\" or nucleotide_2 == \"_\":\n",
        "        return gap_score"
      ]
    },
    {
      "cell_type": "markdown",
      "metadata": {
        "id": "XO1b25pvIoPf"
      },
      "source": [
        "### Backtracking"
      ]
    },
    {
      "cell_type": "code",
      "execution_count": 61,
      "metadata": {
        "id": "tXHdYSllIpx7"
      },
      "outputs": [],
      "source": [
        "def backTracking(pointer_table, seq1, seq2):\n",
        "\n",
        "    m, n = len(seq1) -1, len(seq2) - 1\n",
        "\n",
        "    seq_align_1 = \"\"\n",
        "    seq_align_2 = \"\"\n",
        "\n",
        "    while True:\n",
        "\n",
        "        if pointer_table[m][n] == 1:\n",
        "            n = n - 1\n",
        "            seq_align_1 = seq_align_1 + '_'\n",
        "            seq_align_2 = seq_align_2 + seq2[n + 1]\n",
        "\n",
        "        elif pointer_table[m][n] == 2:\n",
        "            m = m - 1\n",
        "            seq_align_1 = seq_align_1 + seq1[m + 1]\n",
        "            seq_align_2 = seq_align_2 + '_'\n",
        "\n",
        "        elif pointer_table[m][n] == 3:\n",
        "            m = m - 1\n",
        "            n = n - 1\n",
        "            seq_align_1 = seq_align_1 + seq1[m + 1]\n",
        "            seq_align_2 = seq_align_2 + seq2[n + 1]\n",
        "\n",
        "        if m == -1 or n == -1:\n",
        "            break\n",
        "\n",
        "    seq_align_1 = seq_align_1[::-1]\n",
        "    seq_align_2 = seq_align_2[::-1]\n",
        "\n",
        "    print(\"ALINHAMENTO DAS SEQUÊNCIAS: \")\n",
        "    print(f\"Sequência 1: {seq_align_1}\")\n",
        "    print(f\"Sequência 2: {seq_align_2}\\n\")"
      ]
    },
    {
      "cell_type": "markdown",
      "metadata": {
        "id": "ttvqvuBbI4Sh"
      },
      "source": [
        "### Smith-Waterman"
      ]
    },
    {
      "cell_type": "code",
      "execution_count": 62,
      "metadata": {
        "id": "zZyupAhYHpTz"
      },
      "outputs": [],
      "source": [
        "def smith_waterman(seq1, seq2):\n",
        "\n",
        "    m, n = len(seq1), len(seq2)\n",
        "\n",
        "    return_list = init_table((m + 1, n + 1))\n",
        "    pointer_table, table = return_list[0], return_list[1]\n",
        "\n",
        "    for l in range(1, m + 1):\n",
        "\n",
        "        for c in range(1, n + 1):\n",
        "            up_score = table[l - 1][c] + gap_score\n",
        "            side_score = table[l][c - 1] + gap_score\n",
        "            diagonal_score = table[l - 1][c - 1] + nucleotideComparison(seq1[l - 1], seq2[c - 1])\n",
        "            score = max(up_score, side_score, diagonal_score)\n",
        "\n",
        "            if score == 0:\n",
        "                pointer_table[l - 1][c - 1] = 0\n",
        "            if score == side_score:\n",
        "                pointer_table[l - 1][c - 1] = 1\n",
        "            if score == up_score:\n",
        "                pointer_table[l - 1][c - 1] = 2\n",
        "            if score == diagonal_score:\n",
        "                pointer_table[l - 1][c - 1] = 3\n",
        "\n",
        "            table[l][c] = score\n",
        "\n",
        "    backTracking(pointer_table, seq1, seq2)\n",
        "\n",
        "    print(f\"ESCORE FINAL: {table[m][n]}\\n\")\n",
        "    print(\"MATRIZ DE ESCORE: \\n\")\n",
        "\n",
        "    for i in range(0, m + 1):\n",
        "      for j in range(0, n + 1):\n",
        "        print(f\"\\t{table[i][j]} \", end=\"\")\n",
        "\n",
        "      print()"
      ]
    },
    {
      "cell_type": "markdown",
      "metadata": {
        "id": "pfVvWGcMKBic"
      },
      "source": [
        "## Teste de alinhamento de sequências"
      ]
    },
    {
      "cell_type": "code",
      "execution_count": 63,
      "metadata": {
        "colab": {
          "base_uri": "https://localhost:8080/"
        },
        "id": "aFLIignAKpPg",
        "outputId": "1ee134b7-216e-4852-fe80-70f63128615a"
      },
      "outputs": [
        {
          "name": "stdout",
          "output_type": "stream",
          "text": [
            "ALINHAMENTO DAS SEQUÊNCIAS: \n",
            "Sequência 1: GAATTCAGAATT_C\n",
            "Sequência 2: GACTT_AGACTTAC\n",
            "\n",
            "ESCORE FINAL: 36\n",
            "\n",
            "MATRIZ DE ESCORE: \n",
            "\n",
            "\t0 \t-2 \t-4 \t-6 \t-8 \t-10 \t-12 \t-14 \t-16 \t-18 \t-20 \t-22 \t-24 \t-26 \n",
            "\t-2 \t5 \t1 \t-3 \t-7 \t-11 \t-13 \t-7 \t-11 \t-15 \t-19 \t-23 \t-25 \t-27 \n",
            "\t-4 \t1 \t10 \t6 \t2 \t-2 \t-6 \t-10 \t-2 \t-6 \t-10 \t-14 \t-18 \t-22 \n",
            "\t-6 \t-3 \t6 \t7 \t3 \t-1 \t3 \t-1 \t-5 \t-5 \t-9 \t-13 \t-9 \t-13 \n",
            "\t-8 \t-7 \t2 \t3 \t12 \t8 \t4 \t0 \t-4 \t-8 \t0 \t-4 \t-8 \t-12 \n",
            "\t-10 \t-11 \t-2 \t-1 \t8 \t17 \t13 \t9 \t5 \t1 \t-3 \t5 \t1 \t-3 \n",
            "\t-12 \t-13 \t-6 \t3 \t4 \t13 \t14 \t10 \t6 \t10 \t6 \t2 \t2 \t6 \n",
            "\t-14 \t-15 \t-8 \t-1 \t0 \t9 \t18 \t14 \t15 \t11 \t7 \t3 \t7 \t3 \n",
            "\t-16 \t-9 \t-12 \t-5 \t-4 \t5 \t14 \t23 \t19 \t15 \t11 \t7 \t3 \t4 \n",
            "\t-18 \t-13 \t-4 \t-8 \t-8 \t1 \t10 \t19 \t28 \t24 \t20 \t16 \t12 \t8 \n",
            "\t-20 \t-17 \t-8 \t-7 \t-11 \t-3 \t6 \t15 \t24 \t25 \t21 \t17 \t21 \t17 \n",
            "\t-22 \t-21 \t-12 \t-11 \t-2 \t-6 \t2 \t11 \t20 \t21 \t30 \t26 \t22 \t18 \n",
            "\t-24 \t-25 \t-16 \t-15 \t-6 \t3 \t-1 \t7 \t16 \t17 \t26 \t35 \t31 \t27 \n",
            "\t-26 \t-27 \t-20 \t-11 \t-10 \t-1 \t0 \t3 \t12 \t21 \t22 \t31 \t32 \t36 \n"
          ]
        }
      ],
      "source": [
        "seq1 = \"GAATTCAGAATTC\"\n",
        "seq2 = \"GACTTAGACTTAC\"\n",
        "\n",
        "smith_waterman(seq1, seq2)"
      ]
    },
    {
      "cell_type": "code",
      "execution_count": 64,
      "metadata": {
        "colab": {
          "base_uri": "https://localhost:8080/"
        },
        "id": "dMRI6C08KKVH",
        "outputId": "93a4256b-bb9c-4f21-ee89-07527ca7c5bd"
      },
      "outputs": [
        {
          "name": "stdout",
          "output_type": "stream",
          "text": [
            "ALINHAMENTO DAS SEQUÊNCIAS: \n",
            "Sequência 1: GAATTCAGTTA\n",
            "Sequência 2: GGA_TC_G__A\n",
            "\n",
            "ESCORE FINAL: 11\n",
            "\n",
            "MATRIZ DE ESCORE: \n",
            "\n",
            "\t0 \t-2 \t-4 \t-6 \t-8 \t-10 \t-12 \t-14 \n",
            "\t-2 \t5 \t3 \t-1 \t-5 \t-9 \t-5 \t-9 \n",
            "\t-4 \t1 \t2 \t8 \t4 \t0 \t-4 \t0 \n",
            "\t-6 \t-3 \t-2 \t7 \t5 \t1 \t-3 \t1 \n",
            "\t-8 \t-7 \t-6 \t3 \t12 \t8 \t4 \t0 \n",
            "\t-10 \t-11 \t-10 \t-1 \t8 \t9 \t5 \t1 \n",
            "\t-12 \t-13 \t-14 \t-5 \t4 \t13 \t9 \t5 \n",
            "\t-14 \t-15 \t-16 \t-9 \t0 \t9 \t10 \t14 \n",
            "\t-16 \t-9 \t-10 \t-13 \t-4 \t5 \t14 \t10 \n",
            "\t-18 \t-13 \t-12 \t-13 \t-8 \t1 \t10 \t11 \n",
            "\t-20 \t-17 \t-16 \t-15 \t-8 \t-3 \t6 \t7 \n",
            "\t-22 \t-21 \t-20 \t-11 \t-12 \t-7 \t2 \t11 \n"
          ]
        }
      ],
      "source": [
        "seq1 = \"GAATTCAGTTA\"\n",
        "seq2 = \"GGATCGA\"\n",
        "\n",
        "smith_waterman(seq1, seq2)"
      ]
    }
  ],
  "metadata": {
    "colab": {
      "provenance": []
    },
    "kernelspec": {
      "display_name": "Python 3",
      "name": "python3"
    },
    "language_info": {
      "name": "python"
    }
  },
  "nbformat": 4,
  "nbformat_minor": 0
}
