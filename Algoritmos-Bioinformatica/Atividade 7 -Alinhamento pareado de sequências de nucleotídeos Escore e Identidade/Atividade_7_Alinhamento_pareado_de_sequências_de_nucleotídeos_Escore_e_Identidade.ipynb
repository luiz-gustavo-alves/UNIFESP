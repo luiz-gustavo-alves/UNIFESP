{
  "nbformat": 4,
  "nbformat_minor": 0,
  "metadata": {
    "colab": {
      "provenance": []
    },
    "kernelspec": {
      "name": "python3",
      "display_name": "Python 3"
    },
    "language_info": {
      "name": "python"
    }
  },
  "cells": [
    {
      "cell_type": "markdown",
      "source": [
        "# Instalar biblioteca Biopython"
      ],
      "metadata": {
        "id": "nszox298J3qK"
      }
    },
    {
      "cell_type": "code",
      "execution_count": null,
      "metadata": {
        "colab": {
          "base_uri": "https://localhost:8080/"
        },
        "id": "PHAZoRfpJqkc",
        "outputId": "0c09d538-67c5-4d18-b7c5-3a087edf97f5"
      },
      "outputs": [
        {
          "output_type": "stream",
          "name": "stdout",
          "text": [
            "Looking in indexes: https://pypi.org/simple, https://us-python.pkg.dev/colab-wheels/public/simple/\n",
            "Collecting biopython\n",
            "  Downloading biopython-1.81-cp310-cp310-manylinux_2_17_x86_64.manylinux2014_x86_64.whl (3.1 MB)\n",
            "\u001b[2K     \u001b[90m━━━━━━━━━━━━━━━━━━━━━━━━━━━━━━━━━━━━━━━━\u001b[0m \u001b[32m3.1/3.1 MB\u001b[0m \u001b[31m41.6 MB/s\u001b[0m eta \u001b[36m0:00:00\u001b[0m\n",
            "\u001b[?25hRequirement already satisfied: numpy in /usr/local/lib/python3.10/dist-packages (from biopython) (1.22.4)\n",
            "Installing collected packages: biopython\n",
            "Successfully installed biopython-1.81\n"
          ]
        }
      ],
      "source": [
        "pip install biopython"
      ]
    },
    {
      "cell_type": "markdown",
      "source": [
        "# Importar bibliotecas para o desenvolvimento do projeto"
      ],
      "metadata": {
        "id": "p_LBWTf4J94j"
      }
    },
    {
      "cell_type": "code",
      "source": [
        "import Bio\n",
        "from Bio import SeqIO\n",
        "from Bio.Seq import Seq\n",
        "from Bio.SeqRecord import SeqRecord"
      ],
      "metadata": {
        "id": "r6j7dOmBKB0k"
      },
      "execution_count": null,
      "outputs": []
    },
    {
      "cell_type": "markdown",
      "source": [
        "# Fazer upload do arquivo fasta Seq1Seq2"
      ],
      "metadata": {
        "id": "O8S7XXIxKITR"
      }
    },
    {
      "cell_type": "code",
      "source": [
        "from google.colab import files\n",
        "uploaded = files.upload()"
      ],
      "metadata": {
        "colab": {
          "base_uri": "https://localhost:8080/",
          "height": 73
        },
        "id": "_7zy4W92_17O",
        "outputId": "de219d1b-44e9-4dcf-efea-c0b41abd9ad6"
      },
      "execution_count": null,
      "outputs": [
        {
          "output_type": "display_data",
          "data": {
            "text/plain": [
              "<IPython.core.display.HTML object>"
            ],
            "text/html": [
              "\n",
              "     <input type=\"file\" id=\"files-b1c5c4c6-d2ac-4098-8545-ae9e0ca145a5\" name=\"files[]\" multiple disabled\n",
              "        style=\"border:none\" />\n",
              "     <output id=\"result-b1c5c4c6-d2ac-4098-8545-ae9e0ca145a5\">\n",
              "      Upload widget is only available when the cell has been executed in the\n",
              "      current browser session. Please rerun this cell to enable.\n",
              "      </output>\n",
              "      <script>// Copyright 2017 Google LLC\n",
              "//\n",
              "// Licensed under the Apache License, Version 2.0 (the \"License\");\n",
              "// you may not use this file except in compliance with the License.\n",
              "// You may obtain a copy of the License at\n",
              "//\n",
              "//      http://www.apache.org/licenses/LICENSE-2.0\n",
              "//\n",
              "// Unless required by applicable law or agreed to in writing, software\n",
              "// distributed under the License is distributed on an \"AS IS\" BASIS,\n",
              "// WITHOUT WARRANTIES OR CONDITIONS OF ANY KIND, either express or implied.\n",
              "// See the License for the specific language governing permissions and\n",
              "// limitations under the License.\n",
              "\n",
              "/**\n",
              " * @fileoverview Helpers for google.colab Python module.\n",
              " */\n",
              "(function(scope) {\n",
              "function span(text, styleAttributes = {}) {\n",
              "  const element = document.createElement('span');\n",
              "  element.textContent = text;\n",
              "  for (const key of Object.keys(styleAttributes)) {\n",
              "    element.style[key] = styleAttributes[key];\n",
              "  }\n",
              "  return element;\n",
              "}\n",
              "\n",
              "// Max number of bytes which will be uploaded at a time.\n",
              "const MAX_PAYLOAD_SIZE = 100 * 1024;\n",
              "\n",
              "function _uploadFiles(inputId, outputId) {\n",
              "  const steps = uploadFilesStep(inputId, outputId);\n",
              "  const outputElement = document.getElementById(outputId);\n",
              "  // Cache steps on the outputElement to make it available for the next call\n",
              "  // to uploadFilesContinue from Python.\n",
              "  outputElement.steps = steps;\n",
              "\n",
              "  return _uploadFilesContinue(outputId);\n",
              "}\n",
              "\n",
              "// This is roughly an async generator (not supported in the browser yet),\n",
              "// where there are multiple asynchronous steps and the Python side is going\n",
              "// to poll for completion of each step.\n",
              "// This uses a Promise to block the python side on completion of each step,\n",
              "// then passes the result of the previous step as the input to the next step.\n",
              "function _uploadFilesContinue(outputId) {\n",
              "  const outputElement = document.getElementById(outputId);\n",
              "  const steps = outputElement.steps;\n",
              "\n",
              "  const next = steps.next(outputElement.lastPromiseValue);\n",
              "  return Promise.resolve(next.value.promise).then((value) => {\n",
              "    // Cache the last promise value to make it available to the next\n",
              "    // step of the generator.\n",
              "    outputElement.lastPromiseValue = value;\n",
              "    return next.value.response;\n",
              "  });\n",
              "}\n",
              "\n",
              "/**\n",
              " * Generator function which is called between each async step of the upload\n",
              " * process.\n",
              " * @param {string} inputId Element ID of the input file picker element.\n",
              " * @param {string} outputId Element ID of the output display.\n",
              " * @return {!Iterable<!Object>} Iterable of next steps.\n",
              " */\n",
              "function* uploadFilesStep(inputId, outputId) {\n",
              "  const inputElement = document.getElementById(inputId);\n",
              "  inputElement.disabled = false;\n",
              "\n",
              "  const outputElement = document.getElementById(outputId);\n",
              "  outputElement.innerHTML = '';\n",
              "\n",
              "  const pickedPromise = new Promise((resolve) => {\n",
              "    inputElement.addEventListener('change', (e) => {\n",
              "      resolve(e.target.files);\n",
              "    });\n",
              "  });\n",
              "\n",
              "  const cancel = document.createElement('button');\n",
              "  inputElement.parentElement.appendChild(cancel);\n",
              "  cancel.textContent = 'Cancel upload';\n",
              "  const cancelPromise = new Promise((resolve) => {\n",
              "    cancel.onclick = () => {\n",
              "      resolve(null);\n",
              "    };\n",
              "  });\n",
              "\n",
              "  // Wait for the user to pick the files.\n",
              "  const files = yield {\n",
              "    promise: Promise.race([pickedPromise, cancelPromise]),\n",
              "    response: {\n",
              "      action: 'starting',\n",
              "    }\n",
              "  };\n",
              "\n",
              "  cancel.remove();\n",
              "\n",
              "  // Disable the input element since further picks are not allowed.\n",
              "  inputElement.disabled = true;\n",
              "\n",
              "  if (!files) {\n",
              "    return {\n",
              "      response: {\n",
              "        action: 'complete',\n",
              "      }\n",
              "    };\n",
              "  }\n",
              "\n",
              "  for (const file of files) {\n",
              "    const li = document.createElement('li');\n",
              "    li.append(span(file.name, {fontWeight: 'bold'}));\n",
              "    li.append(span(\n",
              "        `(${file.type || 'n/a'}) - ${file.size} bytes, ` +\n",
              "        `last modified: ${\n",
              "            file.lastModifiedDate ? file.lastModifiedDate.toLocaleDateString() :\n",
              "                                    'n/a'} - `));\n",
              "    const percent = span('0% done');\n",
              "    li.appendChild(percent);\n",
              "\n",
              "    outputElement.appendChild(li);\n",
              "\n",
              "    const fileDataPromise = new Promise((resolve) => {\n",
              "      const reader = new FileReader();\n",
              "      reader.onload = (e) => {\n",
              "        resolve(e.target.result);\n",
              "      };\n",
              "      reader.readAsArrayBuffer(file);\n",
              "    });\n",
              "    // Wait for the data to be ready.\n",
              "    let fileData = yield {\n",
              "      promise: fileDataPromise,\n",
              "      response: {\n",
              "        action: 'continue',\n",
              "      }\n",
              "    };\n",
              "\n",
              "    // Use a chunked sending to avoid message size limits. See b/62115660.\n",
              "    let position = 0;\n",
              "    do {\n",
              "      const length = Math.min(fileData.byteLength - position, MAX_PAYLOAD_SIZE);\n",
              "      const chunk = new Uint8Array(fileData, position, length);\n",
              "      position += length;\n",
              "\n",
              "      const base64 = btoa(String.fromCharCode.apply(null, chunk));\n",
              "      yield {\n",
              "        response: {\n",
              "          action: 'append',\n",
              "          file: file.name,\n",
              "          data: base64,\n",
              "        },\n",
              "      };\n",
              "\n",
              "      let percentDone = fileData.byteLength === 0 ?\n",
              "          100 :\n",
              "          Math.round((position / fileData.byteLength) * 100);\n",
              "      percent.textContent = `${percentDone}% done`;\n",
              "\n",
              "    } while (position < fileData.byteLength);\n",
              "  }\n",
              "\n",
              "  // All done.\n",
              "  yield {\n",
              "    response: {\n",
              "      action: 'complete',\n",
              "    }\n",
              "  };\n",
              "}\n",
              "\n",
              "scope.google = scope.google || {};\n",
              "scope.google.colab = scope.google.colab || {};\n",
              "scope.google.colab._files = {\n",
              "  _uploadFiles,\n",
              "  _uploadFilesContinue,\n",
              "};\n",
              "})(self);\n",
              "</script> "
            ]
          },
          "metadata": {}
        },
        {
          "output_type": "stream",
          "name": "stdout",
          "text": [
            "Saving Seq1Seq2_corrigido.txt to Seq1Seq2_corrigido.txt\n"
          ]
        }
      ]
    },
    {
      "cell_type": "markdown",
      "source": [
        "# A partir das sequências curtas de DNA, desenvolva um algoritmo e código que calcule o escore utilizando as Matriz identidade e a Matriz de escore."
      ],
      "metadata": {
        "id": "U1O_2X4uLDnL"
      }
    },
    {
      "cell_type": "markdown",
      "source": [
        "## Armazenar as sequências de DNA"
      ],
      "metadata": {
        "id": "1PB3yLDYwa6o"
      }
    },
    {
      "cell_type": "code",
      "source": [
        "DNA_list = []\n",
        "seq_len = 0\n",
        "\n",
        "for record in SeqIO.parse(\"Seq1Seq2_corrigido.txt\", \"fasta\"):\n",
        "  Seq = record.seq\n",
        "  DNA_list.append(str(Seq))\n",
        "  seq_len = len(Seq)\n",
        "\n",
        "\n",
        "for DNA in DNA_list:\n",
        "  print(f\"{DNA}\")"
      ],
      "metadata": {
        "id": "QDnWBwJGwfIj",
        "colab": {
          "base_uri": "https://localhost:8080/"
        },
        "outputId": "9174f0b1-54a5-4176-9958-7c51a749be48"
      },
      "execution_count": null,
      "outputs": [
        {
          "output_type": "stream",
          "name": "stdout",
          "text": [
            "GGGCAATATGAA---TTTAAA---GTAGAATACCAAATGATAGAAACAGACTGCCTGA-TTGATCATTTTGATTTTTTAAAGTGTGTA------TAAATTGCTGTTCCTTAATTTGATTA\n",
            "GGGCAATATGAAATTTTTAAAGGAGTAGAATACGAAATGATAGACACAGACTGCCTGAATTGAGGATTTTGATTTCTTAAATTGTGTTTCTTTCTAAATTGCTGTTCCTTAATTTTATTA\n"
          ]
        }
      ]
    },
    {
      "cell_type": "markdown",
      "source": [
        "### Código para desenvolver o escore da Matriz Identidade"
      ],
      "metadata": {
        "id": "jJaHSOJyxjDC"
      }
    },
    {
      "cell_type": "code",
      "source": [
        "identity_score = 0\n",
        "\n",
        "for i in range(seq_len):\n",
        "\n",
        "  if DNA_list[0][i] == DNA_list[1][i]:\n",
        "    identity_score += 1\n",
        "\n",
        "print(f\"Escore da Matriz Identidade: {identity_score}\")\n",
        "print(f\"Escore da Matriz Identidade em porcentagem(%): {(identity_score * 100) / seq_len}\")"
      ],
      "metadata": {
        "colab": {
          "base_uri": "https://localhost:8080/"
        },
        "id": "WSKoCN1wJyM_",
        "outputId": "501affc9-ee42-4bd5-dd0a-602d9ccef036"
      },
      "execution_count": null,
      "outputs": [
        {
          "output_type": "stream",
          "name": "stdout",
          "text": [
            "Escore da Matriz Identidade: 99\n",
            "Escore da Matriz Identidade em porcentagem(%): 82.5\n"
          ]
        }
      ]
    },
    {
      "cell_type": "markdown",
      "source": [
        "### Código para desenvolver o escore da Matriz Escore"
      ],
      "metadata": {
        "id": "mVj_8kieK4Jh"
      }
    },
    {
      "cell_type": "markdown",
      "source": [
        "#### Criando estrutura de dados para auxiliar o desenvolvimento do código"
      ],
      "metadata": {
        "id": "O9XqB6cPk4uK"
      }
    },
    {
      "cell_type": "code",
      "source": [
        "hash = {\n",
        "\n",
        "    'AA': 5, 'CC': 5, 'GG': 5, 'TT': 5,\n",
        "    'AC': -1, 'CA': -1, 'AT': -1, 'TA': -1, '-T': -1, 'T-': -1,\n",
        "    'AG': -2, 'GA': -2, 'CT': -2, 'TC': -2, 'GT': -2, 'TG': -2, '-G': -2, 'G-': -2,\n",
        "    'GC': -3, 'CG': -3, '-A': -3, 'A-': -3,\n",
        "    '-C': -4, 'C-': -4\n",
        "}\n",
        "\n",
        "print(\"Tabela do código genético: \\n\")\n",
        "print(\"---------\")\n",
        "\n",
        "for key, value in hash.items():\n",
        "  print(f\"{key} | {value}\");"
      ],
      "metadata": {
        "colab": {
          "base_uri": "https://localhost:8080/"
        },
        "id": "KJV1aZcdk-Yr",
        "outputId": "39f2f1df-4f81-45e1-bf65-29b37c1cc287"
      },
      "execution_count": null,
      "outputs": [
        {
          "output_type": "stream",
          "name": "stdout",
          "text": [
            "Tabela do código genético: \n",
            "\n",
            "---------\n",
            "AA | 5\n",
            "CC | 5\n",
            "GG | 5\n",
            "TT | 5\n",
            "AC | -1\n",
            "CA | -1\n",
            "AT | -1\n",
            "TA | -1\n",
            "-T | -1\n",
            "T- | -1\n",
            "AG | -2\n",
            "GA | -2\n",
            "CT | -2\n",
            "TC | -2\n",
            "GT | -2\n",
            "TG | -2\n",
            "-G | -2\n",
            "G- | -2\n",
            "GC | -3\n",
            "CG | -3\n",
            "-A | -3\n",
            "A- | -3\n",
            "-C | -4\n",
            "C- | -4\n"
          ]
        }
      ]
    },
    {
      "cell_type": "markdown",
      "source": [
        "#### Algoritmo para desenvolver a Matriz de Escore"
      ],
      "metadata": {
        "id": "ReWkBMpek-4h"
      }
    },
    {
      "cell_type": "code",
      "source": [
        "pair = \"\"\n",
        "score_matrix = []\n",
        "score_line = []\n",
        "\n",
        "for i in range(seq_len):\n",
        "\n",
        "  for j in range(seq_len):\n",
        "    pair += DNA_list[0][i] + DNA_list[1][j]\n",
        "    score_line.append(hash[pair])\n",
        "    pair = \"\"\n",
        "\n",
        "  score_matrix.append(score_line)\n",
        "  score_line = []\n",
        "\n",
        "sum = 0\n",
        "for i in range(seq_len):\n",
        "    sum += score_matrix[i][i]\n",
        "\n",
        "print(f\"Escore: {sum}\")\n",
        "print(f\"Escore médio: {sum / seq_len}\")"
      ],
      "metadata": {
        "colab": {
          "base_uri": "https://localhost:8080/"
        },
        "id": "DE3uFXE0kqPW",
        "outputId": "03f0e33c-ba9f-4cd5-c0ea-214d9acea945"
      },
      "execution_count": null,
      "outputs": [
        {
          "output_type": "stream",
          "name": "stdout",
          "text": [
            "Escore: 452\n",
            "Escore médio: 3.7666666666666666\n"
          ]
        }
      ]
    },
    {
      "cell_type": "markdown",
      "source": [
        "# Utilização do módulo Bio.pairwase2"
      ],
      "metadata": {
        "id": "RWkN5_0MS_ql"
      }
    },
    {
      "cell_type": "code",
      "source": [
        "from Bio import pairwise2\n",
        "from Bio.pairwise2 import format_alignment\n",
        "from Bio import pairwise2\n",
        "\n",
        "alignments = pairwise2.align.globalxx(DNA_list[0], DNA_list[1], score_only=True)\n",
        "\n",
        "print(f\"Score utilizando o Bio.pairwise2: {alignments}\")"
      ],
      "metadata": {
        "colab": {
          "base_uri": "https://localhost:8080/"
        },
        "id": "4paw3XvTS-VN",
        "outputId": "9aa31d1b-ac89-446f-8598-693f4b887836"
      },
      "execution_count": null,
      "outputs": [
        {
          "output_type": "stream",
          "name": "stdout",
          "text": [
            "Score utilizando o Bio.pairwise2: 99.0\n"
          ]
        }
      ]
    },
    {
      "cell_type": "markdown",
      "source": [
        "# Interpretação dos resultados\n",
        "\n",
        "Os resultados das matrizes de escore para o código desenvolvido acima e o módulo Bio.pairwase se diferem muito por conta dos valores atribuídos as matrizes de escore para nucleotídeos."
      ],
      "metadata": {
        "id": "C5xmExmFV66H"
      }
    }
  ]
}