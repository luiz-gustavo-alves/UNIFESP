{
  "nbformat": 4,
  "nbformat_minor": 0,
  "metadata": {
    "colab": {
      "provenance": []
    },
    "kernelspec": {
      "name": "python3",
      "display_name": "Python 3"
    },
    "language_info": {
      "name": "python"
    }
  },
  "cells": [
    {
      "cell_type": "markdown",
      "source": [
        "# Instalar biblioteca Biopython"
      ],
      "metadata": {
        "id": "nszox298J3qK"
      }
    },
    {
      "cell_type": "code",
      "execution_count": 1,
      "metadata": {
        "colab": {
          "base_uri": "https://localhost:8080/"
        },
        "id": "PHAZoRfpJqkc",
        "outputId": "d82391d9-cb3f-425f-fe9d-c099529e6e0e"
      },
      "outputs": [
        {
          "output_type": "stream",
          "name": "stdout",
          "text": [
            "Looking in indexes: https://pypi.org/simple, https://us-python.pkg.dev/colab-wheels/public/simple/\n",
            "Collecting biopython\n",
            "  Downloading biopython-1.81-cp310-cp310-manylinux_2_17_x86_64.manylinux2014_x86_64.whl (3.1 MB)\n",
            "\u001b[2K     \u001b[90m━━━━━━━━━━━━━━━━━━━━━━━━━━━━━━━━━━━━━━━━\u001b[0m \u001b[32m3.1/3.1 MB\u001b[0m \u001b[31m16.2 MB/s\u001b[0m eta \u001b[36m0:00:00\u001b[0m\n",
            "\u001b[?25hRequirement already satisfied: numpy in /usr/local/lib/python3.10/dist-packages (from biopython) (1.22.4)\n",
            "Installing collected packages: biopython\n",
            "Successfully installed biopython-1.81\n"
          ]
        }
      ],
      "source": [
        "pip install biopython"
      ]
    },
    {
      "cell_type": "markdown",
      "source": [
        "# Importar bibliotecas para o desenvolvimento do projeto"
      ],
      "metadata": {
        "id": "p_LBWTf4J94j"
      }
    },
    {
      "cell_type": "code",
      "source": [
        "import Bio\n",
        "from Bio import SeqIO\n",
        "from Bio.Seq import Seq\n",
        "from Bio.SeqRecord import SeqRecord"
      ],
      "metadata": {
        "id": "r6j7dOmBKB0k"
      },
      "execution_count": 2,
      "outputs": []
    },
    {
      "cell_type": "markdown",
      "source": [
        "# Fazer upload do arquivo fasta reads4"
      ],
      "metadata": {
        "id": "O8S7XXIxKITR"
      }
    },
    {
      "cell_type": "code",
      "source": [
        "from google.colab import files\n",
        "uploaded = files.upload()"
      ],
      "metadata": {
        "colab": {
          "base_uri": "https://localhost:8080/",
          "height": 73
        },
        "id": "_7zy4W92_17O",
        "outputId": "1bcbb3ff-45aa-4375-ce55-750d9b737f1a"
      },
      "execution_count": 3,
      "outputs": [
        {
          "output_type": "display_data",
          "data": {
            "text/plain": [
              "<IPython.core.display.HTML object>"
            ],
            "text/html": [
              "\n",
              "     <input type=\"file\" id=\"files-7516d509-b1cd-450d-92dd-c5a98c855b69\" name=\"files[]\" multiple disabled\n",
              "        style=\"border:none\" />\n",
              "     <output id=\"result-7516d509-b1cd-450d-92dd-c5a98c855b69\">\n",
              "      Upload widget is only available when the cell has been executed in the\n",
              "      current browser session. Please rerun this cell to enable.\n",
              "      </output>\n",
              "      <script>// Copyright 2017 Google LLC\n",
              "//\n",
              "// Licensed under the Apache License, Version 2.0 (the \"License\");\n",
              "// you may not use this file except in compliance with the License.\n",
              "// You may obtain a copy of the License at\n",
              "//\n",
              "//      http://www.apache.org/licenses/LICENSE-2.0\n",
              "//\n",
              "// Unless required by applicable law or agreed to in writing, software\n",
              "// distributed under the License is distributed on an \"AS IS\" BASIS,\n",
              "// WITHOUT WARRANTIES OR CONDITIONS OF ANY KIND, either express or implied.\n",
              "// See the License for the specific language governing permissions and\n",
              "// limitations under the License.\n",
              "\n",
              "/**\n",
              " * @fileoverview Helpers for google.colab Python module.\n",
              " */\n",
              "(function(scope) {\n",
              "function span(text, styleAttributes = {}) {\n",
              "  const element = document.createElement('span');\n",
              "  element.textContent = text;\n",
              "  for (const key of Object.keys(styleAttributes)) {\n",
              "    element.style[key] = styleAttributes[key];\n",
              "  }\n",
              "  return element;\n",
              "}\n",
              "\n",
              "// Max number of bytes which will be uploaded at a time.\n",
              "const MAX_PAYLOAD_SIZE = 100 * 1024;\n",
              "\n",
              "function _uploadFiles(inputId, outputId) {\n",
              "  const steps = uploadFilesStep(inputId, outputId);\n",
              "  const outputElement = document.getElementById(outputId);\n",
              "  // Cache steps on the outputElement to make it available for the next call\n",
              "  // to uploadFilesContinue from Python.\n",
              "  outputElement.steps = steps;\n",
              "\n",
              "  return _uploadFilesContinue(outputId);\n",
              "}\n",
              "\n",
              "// This is roughly an async generator (not supported in the browser yet),\n",
              "// where there are multiple asynchronous steps and the Python side is going\n",
              "// to poll for completion of each step.\n",
              "// This uses a Promise to block the python side on completion of each step,\n",
              "// then passes the result of the previous step as the input to the next step.\n",
              "function _uploadFilesContinue(outputId) {\n",
              "  const outputElement = document.getElementById(outputId);\n",
              "  const steps = outputElement.steps;\n",
              "\n",
              "  const next = steps.next(outputElement.lastPromiseValue);\n",
              "  return Promise.resolve(next.value.promise).then((value) => {\n",
              "    // Cache the last promise value to make it available to the next\n",
              "    // step of the generator.\n",
              "    outputElement.lastPromiseValue = value;\n",
              "    return next.value.response;\n",
              "  });\n",
              "}\n",
              "\n",
              "/**\n",
              " * Generator function which is called between each async step of the upload\n",
              " * process.\n",
              " * @param {string} inputId Element ID of the input file picker element.\n",
              " * @param {string} outputId Element ID of the output display.\n",
              " * @return {!Iterable<!Object>} Iterable of next steps.\n",
              " */\n",
              "function* uploadFilesStep(inputId, outputId) {\n",
              "  const inputElement = document.getElementById(inputId);\n",
              "  inputElement.disabled = false;\n",
              "\n",
              "  const outputElement = document.getElementById(outputId);\n",
              "  outputElement.innerHTML = '';\n",
              "\n",
              "  const pickedPromise = new Promise((resolve) => {\n",
              "    inputElement.addEventListener('change', (e) => {\n",
              "      resolve(e.target.files);\n",
              "    });\n",
              "  });\n",
              "\n",
              "  const cancel = document.createElement('button');\n",
              "  inputElement.parentElement.appendChild(cancel);\n",
              "  cancel.textContent = 'Cancel upload';\n",
              "  const cancelPromise = new Promise((resolve) => {\n",
              "    cancel.onclick = () => {\n",
              "      resolve(null);\n",
              "    };\n",
              "  });\n",
              "\n",
              "  // Wait for the user to pick the files.\n",
              "  const files = yield {\n",
              "    promise: Promise.race([pickedPromise, cancelPromise]),\n",
              "    response: {\n",
              "      action: 'starting',\n",
              "    }\n",
              "  };\n",
              "\n",
              "  cancel.remove();\n",
              "\n",
              "  // Disable the input element since further picks are not allowed.\n",
              "  inputElement.disabled = true;\n",
              "\n",
              "  if (!files) {\n",
              "    return {\n",
              "      response: {\n",
              "        action: 'complete',\n",
              "      }\n",
              "    };\n",
              "  }\n",
              "\n",
              "  for (const file of files) {\n",
              "    const li = document.createElement('li');\n",
              "    li.append(span(file.name, {fontWeight: 'bold'}));\n",
              "    li.append(span(\n",
              "        `(${file.type || 'n/a'}) - ${file.size} bytes, ` +\n",
              "        `last modified: ${\n",
              "            file.lastModifiedDate ? file.lastModifiedDate.toLocaleDateString() :\n",
              "                                    'n/a'} - `));\n",
              "    const percent = span('0% done');\n",
              "    li.appendChild(percent);\n",
              "\n",
              "    outputElement.appendChild(li);\n",
              "\n",
              "    const fileDataPromise = new Promise((resolve) => {\n",
              "      const reader = new FileReader();\n",
              "      reader.onload = (e) => {\n",
              "        resolve(e.target.result);\n",
              "      };\n",
              "      reader.readAsArrayBuffer(file);\n",
              "    });\n",
              "    // Wait for the data to be ready.\n",
              "    let fileData = yield {\n",
              "      promise: fileDataPromise,\n",
              "      response: {\n",
              "        action: 'continue',\n",
              "      }\n",
              "    };\n",
              "\n",
              "    // Use a chunked sending to avoid message size limits. See b/62115660.\n",
              "    let position = 0;\n",
              "    do {\n",
              "      const length = Math.min(fileData.byteLength - position, MAX_PAYLOAD_SIZE);\n",
              "      const chunk = new Uint8Array(fileData, position, length);\n",
              "      position += length;\n",
              "\n",
              "      const base64 = btoa(String.fromCharCode.apply(null, chunk));\n",
              "      yield {\n",
              "        response: {\n",
              "          action: 'append',\n",
              "          file: file.name,\n",
              "          data: base64,\n",
              "        },\n",
              "      };\n",
              "\n",
              "      let percentDone = fileData.byteLength === 0 ?\n",
              "          100 :\n",
              "          Math.round((position / fileData.byteLength) * 100);\n",
              "      percent.textContent = `${percentDone}% done`;\n",
              "\n",
              "    } while (position < fileData.byteLength);\n",
              "  }\n",
              "\n",
              "  // All done.\n",
              "  yield {\n",
              "    response: {\n",
              "      action: 'complete',\n",
              "    }\n",
              "  };\n",
              "}\n",
              "\n",
              "scope.google = scope.google || {};\n",
              "scope.google.colab = scope.google.colab || {};\n",
              "scope.google.colab._files = {\n",
              "  _uploadFiles,\n",
              "  _uploadFilesContinue,\n",
              "};\n",
              "})(self);\n",
              "</script> "
            ]
          },
          "metadata": {}
        },
        {
          "output_type": "stream",
          "name": "stdout",
          "text": [
            "Saving reads4.fasta to reads4.fasta\n"
          ]
        }
      ]
    },
    {
      "cell_type": "markdown",
      "source": [
        "# A partir de 4 sequências curtas de DNA sequenciado, arquivo \"reads.fasta\" , fazer um código que monte o Contig correspondente."
      ],
      "metadata": {
        "id": "U1O_2X4uLDnL"
      }
    },
    {
      "cell_type": "markdown",
      "source": [
        "## Armazenar as 4 sequências de DNA do arquivo fasta"
      ],
      "metadata": {
        "id": "1PB3yLDYwa6o"
      }
    },
    {
      "cell_type": "code",
      "source": [
        "DNA_list = []\n",
        "for record in SeqIO.parse(\"reads4.fasta\", \"fasta\"):\n",
        "  Seq = record.seq\n",
        "  DNA_list.append(str(Seq))\n",
        "\n",
        "for DNA in DNA_list:\n",
        "  print(f'DNA: {DNA}')"
      ],
      "metadata": {
        "colab": {
          "base_uri": "https://localhost:8080/"
        },
        "id": "QDnWBwJGwfIj",
        "outputId": "3b577e09-e38e-4de2-ae11-4ba53c300daa"
      },
      "execution_count": 4,
      "outputs": [
        {
          "output_type": "stream",
          "name": "stdout",
          "text": [
            "DNA: ATTAGACCTG\n",
            "DNA: CCTGCCGGAA\n",
            "DNA: AGACCTGCCG\n",
            "DNA: GCCGGAATAC\n"
          ]
        }
      ]
    },
    {
      "cell_type": "markdown",
      "source": [
        "## Criação de funções auxiliares para o desenvolvimento do código"
      ],
      "metadata": {
        "id": "-Y2jQkgA_vFX"
      }
    },
    {
      "cell_type": "code",
      "source": [
        "def get_chunk_DNA(DNA, min, max):\n",
        "  return DNA[min:max]\n",
        "\n",
        "def get_index_DNA(DNA, seq):\n",
        "\n",
        "  index = 0\n",
        "  while (len(seq) + index < len(DNA)):\n",
        "    \n",
        "    search_seq = DNA[index:len(seq) + index]\n",
        "    if seq in search_seq:\n",
        "      return (index)\n",
        "\n",
        "    index += 1\n",
        "\n",
        "  return -1"
      ],
      "metadata": {
        "id": "sMymm_cZ_y7t"
      },
      "execution_count": 5,
      "outputs": []
    },
    {
      "cell_type": "markdown",
      "source": [
        "## Aplicar algoritmo guloso para montagem de Genoma"
      ],
      "metadata": {
        "id": "jJaHSOJyxjDC"
      }
    },
    {
      "cell_type": "code",
      "source": [
        "indexes_list = [0]\n",
        "common_DNA_list = []\n",
        "genome = \"\"\n",
        "\n",
        "min = 0\n",
        "max = 3\n",
        "start = min\n",
        "\n",
        "while True:\n",
        "  \n",
        "  ## Verifica se existem nucleotideos a serem lidos na sequencia atual\n",
        "  if (max > len(DNA_list[indexes_list[0]])):\n",
        "\n",
        "    ## Se nao existir DNA em comum, finaliza o algoritmo e \n",
        "    ## insere o restante da sequencia no genoma montado\n",
        "    if (len(common_DNA_list) == 0):\n",
        "      non_common_seq = DNA_list[indexes_list[0]][start:max]\n",
        "      genome += (non_common_seq)\n",
        "      break\n",
        "\n",
        "    common_seq = common_DNA_list[-1]\n",
        "    non_common_seq = DNA_list[indexes_list[0]][start:min]\n",
        "    genome += (non_common_seq + common_seq)\n",
        "\n",
        "    indexes_list.pop(0)\n",
        "    index = get_index_DNA(DNA_list[indexes_list[0]], common_seq)\n",
        "    min = index + len(common_seq)\n",
        "    max = min + 3\n",
        "\n",
        "    start = min\n",
        "    common_DNA_list = []\n",
        "\n",
        "  ## Ainda existem nucleotideos que nao foram lidos na sequencia atual\n",
        "  else:\n",
        "\n",
        "    current_DNA = get_chunk_DNA(DNA_list[indexes_list[0]], min, max)\n",
        "    findCommonSeq = False\n",
        "    DNA_index = 0\n",
        "    \n",
        "    for DNA in DNA_list:\n",
        "      \n",
        "      ## Verifica semelhanca do pedaco de DNA (current_DNA) \n",
        "      ## entre as outras demais sequencias de DNA da lista\n",
        "      if (DNA_index != indexes_list[0] and current_DNA in DNA):\n",
        "\n",
        "          common_DNA_list.append(current_DNA)\n",
        "          findCommonSeq = True\n",
        "\n",
        "          if (DNA_index not in indexes_list):\n",
        "            indexes_list.append(DNA_index)\n",
        "\n",
        "          break\n",
        "\n",
        "      DNA_index += 1\n",
        "\n",
        "    max += 1\n",
        "    if (not findCommonSeq):\n",
        "      min += 1\n",
        "\n",
        "print(f'Genoma Montado: {genome}')"
      ],
      "metadata": {
        "colab": {
          "base_uri": "https://localhost:8080/"
        },
        "id": "SYgp8douxilQ",
        "outputId": "f0246461-b092-4fc8-9dd6-6ba02f72dded"
      },
      "execution_count": 6,
      "outputs": [
        {
          "output_type": "stream",
          "name": "stdout",
          "text": [
            "Genoma Montado: ATTAGACCTGCCGGAATAC\n"
          ]
        }
      ]
    },
    {
      "cell_type": "markdown",
      "source": [
        "## Salvar o contig em arquivo no formato FASTA."
      ],
      "metadata": {
        "id": "A0tVOksdVFiQ"
      }
    },
    {
      "cell_type": "code",
      "source": [
        "id_content = \"contig\"\n",
        "description_content = \"\"\n",
        "\n",
        "content = SeqRecord(\n",
        "    Bio.Seq.Seq(genome),\n",
        "    id = id_content,\n",
        "    description = description_content\n",
        ")\n",
        "\n",
        "SeqIO.write(\n",
        "    content,\n",
        "    \"contig.fasta\",\n",
        "    \"fasta\"\n",
        ")"
      ],
      "metadata": {
        "colab": {
          "base_uri": "https://localhost:8080/"
        },
        "id": "JcUC6P5tVK9N",
        "outputId": "eaea2443-b315-4d8e-805a-f14415166153"
      },
      "execution_count": 7,
      "outputs": [
        {
          "output_type": "execute_result",
          "data": {
            "text/plain": [
              "1"
            ]
          },
          "metadata": {},
          "execution_count": 7
        }
      ]
    }
  ]
}